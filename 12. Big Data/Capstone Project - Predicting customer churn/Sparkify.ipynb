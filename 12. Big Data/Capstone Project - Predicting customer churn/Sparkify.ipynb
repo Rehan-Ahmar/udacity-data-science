{
 "cells": [
  {
   "cell_type": "markdown",
   "metadata": {},
   "source": [
    "# Sparkify Project Workspace\n",
    "This workspace contains a tiny subset (128MB) of the full dataset available (12GB). Feel free to use this workspace to build your project, or to explore a smaller subset with Spark before deploying your cluster on the cloud. Instructions for setting up your Spark cluster is included in the last lesson of the Extracurricular Spark Course content.\n",
    "\n",
    "You can follow the steps below to guide your data analysis and model building portion of this project."
   ]
  },
  {
   "cell_type": "code",
   "execution_count": 19,
   "metadata": {},
   "outputs": [],
   "source": [
    "# import libraries\n",
    "import datetime\n",
    "\n",
    "import numpy as np\n",
    "import pandas as pd\n",
    "import matplotlib.pyplot as plt\n",
    "%matplotlib inline\n",
    "import seaborn as sns\n",
    "\n",
    "import pyspark\n",
    "#from pyspark import SparkConf\n",
    "from pyspark.sql import SparkSession, Window\n",
    "from pyspark.sql.types import IntegerType, StringType, DateType\n",
    "from pyspark.sql.functions import isnan, when, count, col, isnull, desc, asc, udf, max, sum, mean, countDistinct, datediff\n",
    "from pyspark.ml import Pipeline\n",
    "from pyspark.ml.feature import StringIndexer, OneHotEncoderEstimator, VectorAssembler, StandardScaler\n",
    "from pyspark.ml.classification import LogisticRegression, RandomForestClassifier, GBTClassifier\n",
    "from pyspark.ml.evaluation import MulticlassClassificationEvaluator, BinaryClassificationEvaluator\n",
    "from pyspark.ml.tuning import CrossValidator, ParamGridBuilder"
   ]
  },
  {
   "cell_type": "code",
   "execution_count": 20,
   "metadata": {},
   "outputs": [],
   "source": [
    "# create a Spark session\n",
    "spark = SparkSession.builder.appName(\"Sparkify-App\").getOrCreate()"
   ]
  },
  {
   "cell_type": "code",
   "execution_count": 21,
   "metadata": {},
   "outputs": [
    {
     "data": {
      "text/plain": [
       "[('spark.driver.port', '44011'),\n",
       " ('spark.app.id', 'local-1555480185928'),\n",
       " ('spark.rdd.compress', 'True'),\n",
       " ('spark.serializer.objectStreamReset', '100'),\n",
       " ('spark.app.name', 'Sparkify-App'),\n",
       " ('spark.master', 'local[*]'),\n",
       " ('spark.executor.id', 'driver'),\n",
       " ('spark.submit.deployMode', 'client'),\n",
       " ('spark.driver.host', 'ca58fd6b047b'),\n",
       " ('spark.ui.showConsoleProgress', 'true')]"
      ]
     },
     "execution_count": 21,
     "metadata": {},
     "output_type": "execute_result"
    }
   ],
   "source": [
    "spark.sparkContext.getConf().getAll()"
   ]
  },
  {
   "cell_type": "markdown",
   "metadata": {},
   "source": [
    "# Load and Clean Dataset\n",
    "In this workspace, the mini-dataset file is `mini_sparkify_event_data.json`. Load and clean the dataset, checking for invalid or missing data - for example, records without userids or sessionids. "
   ]
  },
  {
   "cell_type": "code",
   "execution_count": 22,
   "metadata": {},
   "outputs": [
    {
     "name": "stdout",
     "output_type": "stream",
     "text": [
      "286500\n",
      "18\n",
      "root\n",
      " |-- artist: string (nullable = true)\n",
      " |-- auth: string (nullable = true)\n",
      " |-- firstName: string (nullable = true)\n",
      " |-- gender: string (nullable = true)\n",
      " |-- itemInSession: long (nullable = true)\n",
      " |-- lastName: string (nullable = true)\n",
      " |-- length: double (nullable = true)\n",
      " |-- level: string (nullable = true)\n",
      " |-- location: string (nullable = true)\n",
      " |-- method: string (nullable = true)\n",
      " |-- page: string (nullable = true)\n",
      " |-- registration: long (nullable = true)\n",
      " |-- sessionId: long (nullable = true)\n",
      " |-- song: string (nullable = true)\n",
      " |-- status: long (nullable = true)\n",
      " |-- ts: long (nullable = true)\n",
      " |-- userAgent: string (nullable = true)\n",
      " |-- userId: string (nullable = true)\n",
      "\n"
     ]
    }
   ],
   "source": [
    "path = 'mini_sparkify_event_data.json'\n",
    "data = spark.read.json(path)\n",
    "print(data.count())\n",
    "print(len(data.columns))\n",
    "data.printSchema()"
   ]
  },
  {
   "cell_type": "code",
   "execution_count": 23,
   "metadata": {},
   "outputs": [
    {
     "name": "stdout",
     "output_type": "stream",
     "text": [
      "+----------------+---------+---------+------+-------------+--------+---------+-----+--------------------+------+--------+-------------+---------+--------------------+------+-------------+--------------------+------+\n",
      "|          artist|     auth|firstName|gender|itemInSession|lastName|   length|level|            location|method|    page| registration|sessionId|                song|status|           ts|           userAgent|userId|\n",
      "+----------------+---------+---------+------+-------------+--------+---------+-----+--------------------+------+--------+-------------+---------+--------------------+------+-------------+--------------------+------+\n",
      "|  Martha Tilston|Logged In|    Colin|     M|           50| Freeman|277.89016| paid|     Bakersfield, CA|   PUT|NextSong|1538173362000|       29|           Rockpools|   200|1538352117000|Mozilla/5.0 (Wind...|    30|\n",
      "|Five Iron Frenzy|Logged In|    Micah|     M|           79|    Long|236.09424| free|Boston-Cambridge-...|   PUT|NextSong|1538331630000|        8|              Canada|   200|1538352180000|\"Mozilla/5.0 (Win...|     9|\n",
      "|    Adam Lambert|Logged In|    Colin|     M|           51| Freeman| 282.8273| paid|     Bakersfield, CA|   PUT|NextSong|1538173362000|       29|   Time For Miracles|   200|1538352394000|Mozilla/5.0 (Wind...|    30|\n",
      "|          Enigma|Logged In|    Micah|     M|           80|    Long|262.71302| free|Boston-Cambridge-...|   PUT|NextSong|1538331630000|        8|Knocking On Forbi...|   200|1538352416000|\"Mozilla/5.0 (Win...|     9|\n",
      "|       Daft Punk|Logged In|    Colin|     M|           52| Freeman|223.60771| paid|     Bakersfield, CA|   PUT|NextSong|1538173362000|       29|Harder Better Fas...|   200|1538352676000|Mozilla/5.0 (Wind...|    30|\n",
      "+----------------+---------+---------+------+-------------+--------+---------+-----+--------------------+------+--------+-------------+---------+--------------------+------+-------------+--------------------+------+\n",
      "only showing top 5 rows\n",
      "\n"
     ]
    }
   ],
   "source": [
    "#data.take(5)\n",
    "data.show(n=5)"
   ]
  },
  {
   "cell_type": "code",
   "execution_count": 24,
   "metadata": {},
   "outputs": [
    {
     "data": {
      "text/html": [
       "<div>\n",
       "<style scoped>\n",
       "    .dataframe tbody tr th:only-of-type {\n",
       "        vertical-align: middle;\n",
       "    }\n",
       "\n",
       "    .dataframe tbody tr th {\n",
       "        vertical-align: top;\n",
       "    }\n",
       "\n",
       "    .dataframe thead th {\n",
       "        text-align: right;\n",
       "    }\n",
       "</style>\n",
       "<table border=\"1\" class=\"dataframe\">\n",
       "  <thead>\n",
       "    <tr style=\"text-align: right;\">\n",
       "      <th></th>\n",
       "      <th>summary</th>\n",
       "      <th>artist</th>\n",
       "      <th>auth</th>\n",
       "      <th>firstName</th>\n",
       "      <th>gender</th>\n",
       "      <th>itemInSession</th>\n",
       "      <th>lastName</th>\n",
       "      <th>length</th>\n",
       "      <th>level</th>\n",
       "      <th>location</th>\n",
       "      <th>method</th>\n",
       "      <th>page</th>\n",
       "      <th>registration</th>\n",
       "      <th>sessionId</th>\n",
       "      <th>song</th>\n",
       "      <th>status</th>\n",
       "      <th>ts</th>\n",
       "      <th>userAgent</th>\n",
       "      <th>userId</th>\n",
       "    </tr>\n",
       "  </thead>\n",
       "  <tbody>\n",
       "    <tr>\n",
       "      <th>0</th>\n",
       "      <td>count</td>\n",
       "      <td>228108</td>\n",
       "      <td>286500</td>\n",
       "      <td>278154</td>\n",
       "      <td>278154</td>\n",
       "      <td>286500</td>\n",
       "      <td>278154</td>\n",
       "      <td>228108</td>\n",
       "      <td>286500</td>\n",
       "      <td>278154</td>\n",
       "      <td>286500</td>\n",
       "      <td>286500</td>\n",
       "      <td>278154</td>\n",
       "      <td>286500</td>\n",
       "      <td>228108</td>\n",
       "      <td>286500</td>\n",
       "      <td>286500</td>\n",
       "      <td>278154</td>\n",
       "      <td>286500</td>\n",
       "    </tr>\n",
       "    <tr>\n",
       "      <th>1</th>\n",
       "      <td>mean</td>\n",
       "      <td>551.0852017937219</td>\n",
       "      <td>None</td>\n",
       "      <td>None</td>\n",
       "      <td>None</td>\n",
       "      <td>114.41421291448516</td>\n",
       "      <td>None</td>\n",
       "      <td>249.1171819778458</td>\n",
       "      <td>None</td>\n",
       "      <td>None</td>\n",
       "      <td>None</td>\n",
       "      <td>None</td>\n",
       "      <td>1.5353588340844272E12</td>\n",
       "      <td>1041.526554973822</td>\n",
       "      <td>Infinity</td>\n",
       "      <td>210.05459685863875</td>\n",
       "      <td>1.5409568898104834E12</td>\n",
       "      <td>None</td>\n",
       "      <td>59682.02278593872</td>\n",
       "    </tr>\n",
       "    <tr>\n",
       "      <th>2</th>\n",
       "      <td>stddev</td>\n",
       "      <td>1217.7693079161374</td>\n",
       "      <td>None</td>\n",
       "      <td>None</td>\n",
       "      <td>None</td>\n",
       "      <td>129.76726201140994</td>\n",
       "      <td>None</td>\n",
       "      <td>99.23517921058361</td>\n",
       "      <td>None</td>\n",
       "      <td>None</td>\n",
       "      <td>None</td>\n",
       "      <td>None</td>\n",
       "      <td>3.291321616327586E9</td>\n",
       "      <td>726.7762634630741</td>\n",
       "      <td>NaN</td>\n",
       "      <td>31.50507848842214</td>\n",
       "      <td>1.5075439608226302E9</td>\n",
       "      <td>None</td>\n",
       "      <td>109091.9499991047</td>\n",
       "    </tr>\n",
       "    <tr>\n",
       "      <th>3</th>\n",
       "      <td>min</td>\n",
       "      <td>!!!</td>\n",
       "      <td>Cancelled</td>\n",
       "      <td>Adelaida</td>\n",
       "      <td>F</td>\n",
       "      <td>0</td>\n",
       "      <td>Adams</td>\n",
       "      <td>0.78322</td>\n",
       "      <td>free</td>\n",
       "      <td>Albany, OR</td>\n",
       "      <td>GET</td>\n",
       "      <td>About</td>\n",
       "      <td>1521380675000</td>\n",
       "      <td>1</td>\n",
       "      <td>ÃÂg ÃÂtti GrÃÂ¡a ÃÂsku</td>\n",
       "      <td>200</td>\n",
       "      <td>1538352117000</td>\n",
       "      <td>\"Mozilla/5.0 (Macintosh; Intel Mac OS X 10_10)...</td>\n",
       "      <td></td>\n",
       "    </tr>\n",
       "    <tr>\n",
       "      <th>4</th>\n",
       "      <td>max</td>\n",
       "      <td>ÃÂlafur Arnalds</td>\n",
       "      <td>Logged Out</td>\n",
       "      <td>Zyonna</td>\n",
       "      <td>M</td>\n",
       "      <td>1321</td>\n",
       "      <td>Wright</td>\n",
       "      <td>3024.66567</td>\n",
       "      <td>paid</td>\n",
       "      <td>Winston-Salem, NC</td>\n",
       "      <td>PUT</td>\n",
       "      <td>Upgrade</td>\n",
       "      <td>1543247354000</td>\n",
       "      <td>2474</td>\n",
       "      <td>ÃÂau hafa sloppiÃÂ° undan ÃÂ¾unga myrkursins</td>\n",
       "      <td>404</td>\n",
       "      <td>1543799476000</td>\n",
       "      <td>Mozilla/5.0 (compatible; MSIE 9.0; Windows NT ...</td>\n",
       "      <td>99</td>\n",
       "    </tr>\n",
       "  </tbody>\n",
       "</table>\n",
       "</div>"
      ],
      "text/plain": [
       "  summary              artist        auth firstName  gender  \\\n",
       "0   count              228108      286500    278154  278154   \n",
       "1    mean   551.0852017937219        None      None    None   \n",
       "2  stddev  1217.7693079161374        None      None    None   \n",
       "3     min                 !!!   Cancelled  Adelaida       F   \n",
       "4     max   ÃÂlafur Arnalds  Logged Out    Zyonna       M   \n",
       "\n",
       "        itemInSession lastName             length   level           location  \\\n",
       "0              286500   278154             228108  286500             278154   \n",
       "1  114.41421291448516     None  249.1171819778458    None               None   \n",
       "2  129.76726201140994     None  99.23517921058361    None               None   \n",
       "3                   0    Adams            0.78322    free         Albany, OR   \n",
       "4                1321   Wright         3024.66567    paid  Winston-Salem, NC   \n",
       "\n",
       "   method     page           registration          sessionId  \\\n",
       "0  286500   286500                 278154             286500   \n",
       "1    None     None  1.5353588340844272E12  1041.526554973822   \n",
       "2    None     None    3.291321616327586E9  726.7762634630741   \n",
       "3     GET    About          1521380675000                  1   \n",
       "4     PUT  Upgrade          1543247354000               2474   \n",
       "\n",
       "                                               song              status  \\\n",
       "0                                            228108              286500   \n",
       "1                                          Infinity  210.05459685863875   \n",
       "2                                               NaN   31.50507848842214   \n",
       "3                    \n",
       "ÃÂg ÃÂtti GrÃÂ¡a ÃÂsku                 200   \n",
       "4  ÃÂau hafa sloppiÃÂ° undan ÃÂ¾unga myrkursins                 404   \n",
       "\n",
       "                      ts                                          userAgent  \\\n",
       "0                 286500                                             278154   \n",
       "1  1.5409568898104834E12                                               None   \n",
       "2   1.5075439608226302E9                                               None   \n",
       "3          1538352117000  \"Mozilla/5.0 (Macintosh; Intel Mac OS X 10_10)...   \n",
       "4          1543799476000  Mozilla/5.0 (compatible; MSIE 9.0; Windows NT ...   \n",
       "\n",
       "              userId  \n",
       "0             286500  \n",
       "1  59682.02278593872  \n",
       "2  109091.9499991047  \n",
       "3                     \n",
       "4                 99  "
      ]
     },
     "execution_count": 24,
     "metadata": {},
     "output_type": "execute_result"
    }
   ],
   "source": [
    "#data.describe().show()\n",
    "data.describe().toPandas()"
   ]
  },
  {
   "cell_type": "code",
   "execution_count": 25,
   "metadata": {},
   "outputs": [
    {
     "data": {
      "text/plain": [
       "[('artist', 'string'),\n",
       " ('auth', 'string'),\n",
       " ('firstName', 'string'),\n",
       " ('gender', 'string'),\n",
       " ('itemInSession', 'bigint'),\n",
       " ('lastName', 'string'),\n",
       " ('length', 'double'),\n",
       " ('level', 'string'),\n",
       " ('location', 'string'),\n",
       " ('method', 'string'),\n",
       " ('page', 'string'),\n",
       " ('registration', 'bigint'),\n",
       " ('sessionId', 'bigint'),\n",
       " ('song', 'string'),\n",
       " ('status', 'bigint'),\n",
       " ('ts', 'bigint'),\n",
       " ('userAgent', 'string'),\n",
       " ('userId', 'string')]"
      ]
     },
     "execution_count": 25,
     "metadata": {},
     "output_type": "execute_result"
    }
   ],
   "source": [
    "data.dtypes"
   ]
  },
  {
   "cell_type": "code",
   "execution_count": 26,
   "metadata": {},
   "outputs": [
    {
     "name": "stdout",
     "output_type": "stream",
     "text": [
      "+------+----+---------+------+-------------+--------+------+-----+--------+------+----+------------+---------+-----+------+---+---------+------+\n",
      "|artist|auth|firstName|gender|itemInSession|lastName|length|level|location|method|page|registration|sessionId| song|status| ts|userAgent|userId|\n",
      "+------+----+---------+------+-------------+--------+------+-----+--------+------+----+------------+---------+-----+------+---+---------+------+\n",
      "| 58392|   0|     8346|  8346|            0|    8346| 58392|    0|    8346|     0|   0|        8346|        0|58392|     0|  0|     8346|     0|\n",
      "+------+----+---------+------+-------------+--------+------+-----+--------+------+----+------------+---------+-----+------+---+---------+------+\n",
      "\n"
     ]
    }
   ],
   "source": [
    "# Get count of null or Nan values\n",
    "data.select([count(when(isnan(c) | isnull(c), c)).alias(c) for c in data.columns]).show()"
   ]
  },
  {
   "cell_type": "code",
   "execution_count": 27,
   "metadata": {},
   "outputs": [
    {
     "name": "stdout",
     "output_type": "stream",
     "text": [
      "8346\n",
      "0\n",
      "+------+----+---------+------+--------+-----+--------+------+----+----+---------+------+\n",
      "|artist|auth|firstName|gender|lastName|level|location|method|page|song|userAgent|userId|\n",
      "+------+----+---------+------+--------+-----+--------+------+----+----+---------+------+\n",
      "|     0|   0|        0|     0|       0|    0|       0|     0|   0|   0|        0|  8346|\n",
      "+------+----+---------+------+--------+-----+--------+------+----+----+---------+------+\n",
      "\n"
     ]
    }
   ],
   "source": [
    "# Get count of empty strings \n",
    "print(data.filter(data['userId'] == '').count())    #print(data.where(data.userId =='').count())\n",
    "print(data.filter(data['sessionId'] == '').count())\n",
    "\n",
    "columns = [item[0] for item in data.dtypes if item[1].startswith('string')]\n",
    "data.select([count(when(col(c)=='', c)).alias(c) for c in columns]).show()"
   ]
  },
  {
   "cell_type": "markdown",
   "metadata": {},
   "source": [
    "8346 rows don't have any user information. This means these records were for un-registered users. These rows also have null values in firstName, lastName, gender, location and registration. We can safely remove these rows."
   ]
  },
  {
   "cell_type": "code",
   "execution_count": 28,
   "metadata": {},
   "outputs": [
    {
     "name": "stdout",
     "output_type": "stream",
     "text": [
      "278154\n"
     ]
    }
   ],
   "source": [
    "data = data.filter(data['userId'] != '')\n",
    "print(data.count())"
   ]
  },
  {
   "cell_type": "code",
   "execution_count": 29,
   "metadata": {},
   "outputs": [
    {
     "name": "stdout",
     "output_type": "stream",
     "text": [
      "+------+----+---------+------+-------------+--------+------+-----+--------+------+----+------------+---------+-----+------+---+---------+------+\n",
      "|artist|auth|firstName|gender|itemInSession|lastName|length|level|location|method|page|registration|sessionId| song|status| ts|userAgent|userId|\n",
      "+------+----+---------+------+-------------+--------+------+-----+--------+------+----+------------+---------+-----+------+---+---------+------+\n",
      "| 50046|   0|        0|     0|            0|       0| 50046|    0|       0|     0|   0|           0|        0|50046|     0|  0|        0|     0|\n",
      "+------+----+---------+------+-------------+--------+------+-----+--------+------+----+------------+---------+-----+------+---+---------+------+\n",
      "\n"
     ]
    }
   ],
   "source": [
    "data.select([count(when(isnan(c) | isnull(c), c)).alias(c) for c in data.columns]).show()"
   ]
  },
  {
   "cell_type": "code",
   "execution_count": 30,
   "metadata": {},
   "outputs": [],
   "source": [
    "# data.write.save('processed_logs.csv', format='csv', header=True)"
   ]
  },
  {
   "cell_type": "markdown",
   "metadata": {},
   "source": [
    "# Exploratory Data Analysis\n",
    "When you're working with the full dataset, perform EDA by loading a small subset of the data and doing basic manipulations within Spark. In this workspace, you are already provided a small subset of data you can explore.\n",
    "\n",
    "### Define Churn\n",
    "\n",
    "Once you've done some preliminary analysis, create a column `Churn` to use as the label for your model. I suggest using the `Cancellation Confirmation` events to define your churn, which happen for both paid and free users. As a bonus task, you can also look into the `Downgrade` events.\n",
    "\n",
    "### Explore Data\n",
    "Once you've defined churn, perform some exploratory data analysis to observe the behavior for users who stayed vs users who churned. You can start by exploring aggregates on these two groups of users, observing how much of a specific action they experienced per a certain time unit or number of songs played."
   ]
  },
  {
   "cell_type": "code",
   "execution_count": 31,
   "metadata": {},
   "outputs": [
    {
     "name": "stdout",
     "output_type": "stream",
     "text": [
      "Column: Artist\n",
      "Number of unique values: 17656\n",
      "Unique values:\n",
      "+--------------------+\n",
      "|              artist|\n",
      "+--------------------+\n",
      "|                null|\n",
      "|                 !!!|\n",
      "|        & And Oceans|\n",
      "|'N Sync/Phil Collins|\n",
      "|        'Til Tuesday|\n",
      "+--------------------+\n",
      "only showing top 5 rows\n",
      "\n",
      "Column: Auth\n",
      "Number of unique values: 2\n",
      "Unique values:\n",
      "+---------+\n",
      "|     auth|\n",
      "+---------+\n",
      "|Cancelled|\n",
      "|Logged In|\n",
      "+---------+\n",
      "\n",
      "Column: Firstname\n",
      "Number of unique values: 189\n",
      "Unique values:\n",
      "+---------+\n",
      "|firstName|\n",
      "+---------+\n",
      "| Adelaida|\n",
      "|   Adrian|\n",
      "|  Adriana|\n",
      "|   Adriel|\n",
      "|  Ainsley|\n",
      "+---------+\n",
      "only showing top 5 rows\n",
      "\n",
      "Column: Gender\n",
      "Number of unique values: 2\n",
      "Unique values:\n",
      "+------+\n",
      "|gender|\n",
      "+------+\n",
      "|     F|\n",
      "|     M|\n",
      "+------+\n",
      "\n",
      "Column: Iteminsession\n",
      "Number of unique values: 1311\n",
      "Unique values:\n",
      "+-------------+\n",
      "|itemInSession|\n",
      "+-------------+\n",
      "|            0|\n",
      "|            1|\n",
      "|            2|\n",
      "|            3|\n",
      "|            4|\n",
      "+-------------+\n",
      "only showing top 5 rows\n",
      "\n",
      "Column: Lastname\n",
      "Number of unique values: 173\n",
      "Unique values:\n",
      "+---------+\n",
      "| lastName|\n",
      "+---------+\n",
      "|    Adams|\n",
      "|  Aguilar|\n",
      "|Alexander|\n",
      "|    Allen|\n",
      "| Atkinson|\n",
      "+---------+\n",
      "only showing top 5 rows\n",
      "\n",
      "Column: Length\n",
      "Number of unique values: 14866\n",
      "Unique values:\n",
      "+-------+\n",
      "| length|\n",
      "+-------+\n",
      "|   null|\n",
      "|0.78322|\n",
      "|2.16771|\n",
      "|4.04853|\n",
      "| 4.8322|\n",
      "+-------+\n",
      "only showing top 5 rows\n",
      "\n",
      "Column: Level\n",
      "Number of unique values: 2\n",
      "Unique values:\n",
      "+-----+\n",
      "|level|\n",
      "+-----+\n",
      "| free|\n",
      "| paid|\n",
      "+-----+\n",
      "\n",
      "Column: Location\n",
      "Number of unique values: 114\n",
      "Unique values:\n",
      "+--------------------+\n",
      "|            location|\n",
      "+--------------------+\n",
      "|          Albany, OR|\n",
      "|Albany-Schenectad...|\n",
      "|      Alexandria, LA|\n",
      "|Allentown-Bethleh...|\n",
      "|       Anchorage, AK|\n",
      "+--------------------+\n",
      "only showing top 5 rows\n",
      "\n",
      "Column: Method\n",
      "Number of unique values: 2\n",
      "Unique values:\n",
      "+------+\n",
      "|method|\n",
      "+------+\n",
      "|   GET|\n",
      "|   PUT|\n",
      "+------+\n",
      "\n",
      "Column: Page\n",
      "Number of unique values: 19\n",
      "Unique values:\n",
      "+--------------------+\n",
      "|                page|\n",
      "+--------------------+\n",
      "|               About|\n",
      "|          Add Friend|\n",
      "|     Add to Playlist|\n",
      "|              Cancel|\n",
      "|Cancellation Conf...|\n",
      "+--------------------+\n",
      "only showing top 5 rows\n",
      "\n",
      "Column: Registration\n",
      "Number of unique values: 225\n",
      "Unique values:\n",
      "+-------------+\n",
      "| registration|\n",
      "+-------------+\n",
      "|1521380675000|\n",
      "|1526739206000|\n",
      "|1526838391000|\n",
      "|1528403713000|\n",
      "|1528560242000|\n",
      "+-------------+\n",
      "only showing top 5 rows\n",
      "\n",
      "Column: Sessionid\n",
      "Number of unique values: 2312\n",
      "Unique values:\n",
      "+---------+\n",
      "|sessionId|\n",
      "+---------+\n",
      "|        1|\n",
      "|        2|\n",
      "|        3|\n",
      "|        4|\n",
      "|        5|\n",
      "+---------+\n",
      "only showing top 5 rows\n",
      "\n",
      "Column: Song\n",
      "Number of unique values: 58481\n",
      "Unique values:\n",
      "+--------------------+\n",
      "|                song|\n",
      "+--------------------+\n",
      "|                null|\n",
      "|\u001c",
      "ÃÂg ÃÂtti Gr...|\n",
      "| I Will Not Reap ...|\n",
      "|              !@*$%#|\n",
      "|#!*@ You Tonight ...|\n",
      "+--------------------+\n",
      "only showing top 5 rows\n",
      "\n",
      "Column: Status\n",
      "Number of unique values: 3\n",
      "Unique values:\n",
      "+------+\n",
      "|status|\n",
      "+------+\n",
      "|   200|\n",
      "|   307|\n",
      "|   404|\n",
      "+------+\n",
      "\n",
      "Column: Ts\n",
      "Number of unique values: 269770\n",
      "Unique values:\n",
      "+-------------+\n",
      "|           ts|\n",
      "+-------------+\n",
      "|1538352117000|\n",
      "|1538352180000|\n",
      "|1538352394000|\n",
      "|1538352416000|\n",
      "|1538352676000|\n",
      "+-------------+\n",
      "only showing top 5 rows\n",
      "\n",
      "Column: Useragent\n",
      "Number of unique values: 56\n",
      "Unique values:\n",
      "+--------------------+\n",
      "|           userAgent|\n",
      "+--------------------+\n",
      "|\"Mozilla/5.0 (Mac...|\n",
      "|\"Mozilla/5.0 (Mac...|\n",
      "|\"Mozilla/5.0 (Mac...|\n",
      "|\"Mozilla/5.0 (Mac...|\n",
      "|\"Mozilla/5.0 (Mac...|\n",
      "+--------------------+\n",
      "only showing top 5 rows\n",
      "\n",
      "Column: Userid\n",
      "Number of unique values: 225\n",
      "Unique values:\n",
      "+------+\n",
      "|userId|\n",
      "+------+\n",
      "|    10|\n",
      "|   100|\n",
      "|100001|\n",
      "|100002|\n",
      "|100003|\n",
      "+------+\n",
      "only showing top 5 rows\n",
      "\n"
     ]
    }
   ],
   "source": [
    "for column in data.columns:\n",
    "    print('Column: {}'.format(column.title()))\n",
    "    print('Number of unique values: {}'.format(data.select(column).dropDuplicates().count()))\n",
    "    print('Unique values:')\n",
    "    data.select(column).dropDuplicates().sort(column).show(5)"
   ]
  },
  {
   "cell_type": "code",
   "execution_count": 32,
   "metadata": {},
   "outputs": [
    {
     "name": "stdout",
     "output_type": "stream",
     "text": [
      "+--------------------+\n",
      "|                page|\n",
      "+--------------------+\n",
      "|               About|\n",
      "|          Add Friend|\n",
      "|     Add to Playlist|\n",
      "|              Cancel|\n",
      "|Cancellation Conf...|\n",
      "|           Downgrade|\n",
      "|               Error|\n",
      "|                Help|\n",
      "|                Home|\n",
      "|              Logout|\n",
      "|            NextSong|\n",
      "|         Roll Advert|\n",
      "|       Save Settings|\n",
      "|            Settings|\n",
      "|    Submit Downgrade|\n",
      "|      Submit Upgrade|\n",
      "|         Thumbs Down|\n",
      "|           Thumbs Up|\n",
      "|             Upgrade|\n",
      "+--------------------+\n",
      "\n"
     ]
    }
   ],
   "source": [
    "# data.select(\"page\").distinct().sort(\"page\").show()\n",
    "data.select('page').dropDuplicates().sort('page').show()"
   ]
  },
  {
   "cell_type": "code",
   "execution_count": 33,
   "metadata": {},
   "outputs": [
    {
     "data": {
      "text/plain": [
       "Row(artist='Martha Tilston', auth='Logged In', firstName='Colin', gender='M', itemInSession=50, lastName='Freeman', length=277.89016, level='paid', location='Bakersfield, CA', method='PUT', page='NextSong', registration=1538173362000, sessionId=29, song='Rockpools', status=200, ts=1538352117000, userAgent='Mozilla/5.0 (Windows NT 6.1; WOW64; rv:31.0) Gecko/20100101 Firefox/31.0', userId='30', Churn=0)"
      ]
     },
     "execution_count": 33,
     "metadata": {},
     "output_type": "execute_result"
    }
   ],
   "source": [
    "flag_cancellation_event = udf(lambda x: 1 if x == 'Cancellation Confirmation' else 0, IntegerType())\n",
    "#flag_downgrade_event = udf(lambda x: int(x==\"Submit Downgrade\"), IntegerType())\n",
    "data = data.withColumn('Churn', flag_cancellation_event('page'))  #.withColumn(\"downgraded\", flag_downgrade_event(\"page\"))\n",
    "data.head()"
   ]
  },
  {
   "cell_type": "code",
   "execution_count": 34,
   "metadata": {},
   "outputs": [
    {
     "name": "stdout",
     "output_type": "stream",
     "text": [
      "+------+---------+---------+------+-------------+---------+------+-----+--------------------+------+--------------------+-------------+---------+----+------+-------------+--------------------+------+-----+\n",
      "|artist|     auth|firstName|gender|itemInSession| lastName|length|level|            location|method|                page| registration|sessionId|song|status|           ts|           userAgent|userId|Churn|\n",
      "+------+---------+---------+------+-------------+---------+------+-----+--------------------+------+--------------------+-------------+---------+----+------+-------------+--------------------+------+-----+\n",
      "|  null|Cancelled|   Adriel|     M|          104|  Mendoza|  null| paid|  Kansas City, MO-KS|   GET|Cancellation Conf...|1535623466000|      514|null|   200|1538943990000|\"Mozilla/5.0 (Mac...|    18|    1|\n",
      "|  null|Cancelled|    Diego|     M|           56|    Mckee|  null| paid|Phoenix-Mesa-Scot...|   GET|Cancellation Conf...|1537167593000|      540|null|   200|1539033046000|\"Mozilla/5.0 (iPh...|    32|    1|\n",
      "|  null|Cancelled|    Mason|     M|           10|     Hart|  null| free|  Corpus Christi, TX|   GET|Cancellation Conf...|1533157139000|      174|null|   200|1539318918000|\"Mozilla/5.0 (Mac...|   125|    1|\n",
      "|  null|Cancelled|Alexander|     M|          332|   Garcia|  null| paid|Indianapolis-Carm...|   GET|Cancellation Conf...|1536817381000|      508|null|   200|1539375441000|Mozilla/5.0 (Wind...|   105|    1|\n",
      "|  null|Cancelled|    Kayla|     F|          273|  Johnson|  null| paid|Philadelphia-Camd...|   GET|Cancellation Conf...|1538333829000|      797|null|   200|1539465584000|Mozilla/5.0 (Wind...|    17|    1|\n",
      "|  null|Cancelled|    Molly|     F|           29| Harrison|  null| free|Virginia Beach-No...|   GET|Cancellation Conf...|1534255113000|      843|null|   200|1539588854000|\"Mozilla/5.0 (Mac...|   143|    1|\n",
      "|  null|Cancelled|     Alex|     M|          145|    Hogan|  null| paid|Denver-Aurora-Lak...|   GET|Cancellation Conf...|1535066380000|      842|null|   200|1539729037000|Mozilla/5.0 (Wind...|   101|    1|\n",
      "|  null|Cancelled|    Davis|     M|           34|     Wang|  null| paid|           Flint, MI|   GET|Cancellation Conf...|1538289776000|      802|null|   200|1539736161000|\"Mozilla/5.0 (Win...|   129|    1|\n",
      "|  null|Cancelled|  Nikolas|     M|          287|    Olsen|  null| paid|Oxnard-Thousand O...|   GET|Cancellation Conf...|1528403713000|      881|null|   200|1539759749000|Mozilla/5.0 (X11;...|   121|    1|\n",
      "|  null|Cancelled|    Ethan|     M|          176|  Johnson|  null| paid|Lexington-Fayette...|   GET|Cancellation Conf...|1538080987000|      934|null|   200|1539761972000|\"Mozilla/5.0 (Win...|    51|    1|\n",
      "|  null|Cancelled|Christian|     M|          100| Robinson|  null| paid|       Quincy, IL-MO|   GET|Cancellation Conf...|1534942082000|     1092|null|   200|1540050556000|\"Mozilla/5.0 (Win...|    87|    1|\n",
      "|  null|Cancelled|    Molly|     F|           43|Patterson|  null| paid|   Memphis, TN-MS-AR|   GET|Cancellation Conf...|1535498705000|     1029|null|   200|1540062068000|Mozilla/5.0 (X11;...|   122|    1|\n",
      "|  null|Cancelled|   Sophia|     F|           72|    Perry|  null| paid|Los Angeles-Long ...|   GET|Cancellation Conf...|1533885783000|     1072|null|   200|1540193374000|Mozilla/5.0 (Wind...|    12|    1|\n",
      "|  null|Cancelled|    Erick|     M|           48|   Brooks|  null| paid|           Selma, AL|   GET|Cancellation Conf...|1537956751000|     1112|null|   200|1540223006000|\"Mozilla/5.0 (Win...|    58|    1|\n",
      "|  null|Cancelled|   Rachel|     F|           11|   Bailey|  null| paid|Albany-Schenectad...|   GET|Cancellation Conf...|1536102943000|     1059|null|   200|1540402387000|Mozilla/5.0 (Wind...|    73|    1|\n",
      "|  null|Cancelled|  Jeffery|     M|           46|  Wheeler|  null| paid|         Bozeman, MT|   GET|Cancellation Conf...|1533886191000|     1324|null|   200|1540875543000|\"Mozilla/5.0 (Win...|     3|    1|\n",
      "|  null|Cancelled|   Sophia|     F|           18|      Key|  null| paid|Los Angeles-Long ...|   GET|Cancellation Conf...|1537679535000|     1383|null|   200|1541166424000|\"Mozilla/5.0 (Mac...|   106|    1|\n",
      "|  null|Cancelled|    Piper|     F|            8|  Nielsen|  null| paid|New York-Newark-J...|   GET|Cancellation Conf...|1537699856000|     1583|null|   200|1541340091000|\"Mozilla/5.0 (Mac...|   103|    1|\n",
      "|  null|Cancelled|   Teagan|     F|          306|  Roberts|  null| paid|New Philadelphia-...|   GET|Cancellation Conf...|1537634865000|     1519|null|   200|1541463632000|Mozilla/5.0 (Wind...|    28|    1|\n",
      "|  null|Cancelled|    Alexi|     F|           42|   Warren|  null| paid|Spokane-Spokane V...|   GET|Cancellation Conf...|1532482662000|     1819|null|   200|1542051608000|Mozilla/5.0 (Wind...|    54|    1|\n",
      "+------+---------+---------+------+-------------+---------+------+-----+--------------------+------+--------------------+-------------+---------+----+------+-------------+--------------------+------+-----+\n",
      "only showing top 20 rows\n",
      "\n"
     ]
    }
   ],
   "source": [
    "data.filter(\"page = 'Cancellation Confirmation'\").show()"
   ]
  },
  {
   "cell_type": "code",
   "execution_count": 35,
   "metadata": {},
   "outputs": [
    {
     "name": "stdout",
     "output_type": "stream",
     "text": [
      "+------+---------+-------------+--------+---------+-----+-------------+--------------------+-----+\n",
      "|userId|     auth|itemInSession|    page|   length|level|           ts|                song|churn|\n",
      "+------+---------+-------------+--------+---------+-----+-------------+--------------------+-----+\n",
      "|    18|Logged In|            0|    Home|     null| paid|1538499917000|                null|    0|\n",
      "|    18|Logged In|            1|NextSong|275.12118| paid|1538499933000|A Beggar On A Bea...|    0|\n",
      "|    18|Logged In|            2|NextSong|268.32934| paid|1538500208000|...slowdance On T...|    0|\n",
      "|    18|Logged In|            3|NextSong|178.72934| paid|1538500476000|       St. Apollonia|    0|\n",
      "|    18|Logged In|            4|NextSong|188.76036| paid|1538500654000|      Drunk Stripper|    0|\n",
      "|    18|Logged In|            5|NextSong|167.91465| paid|1538500842000|In League With Satan|    0|\n",
      "|    18|Logged In|            6|Settings|     null| paid|1538500856000|                null|    0|\n",
      "|    18|Logged In|            7|NextSong|331.38893| paid|1538501009000|           The Quest|    0|\n",
      "|    18|Logged In|            8|NextSong|247.69261| paid|1538501340000|    Waking The Demon|    0|\n",
      "|    18|Logged In|            9|NextSong|153.52118| paid|1538501587000|Why Do You Let Me...|    0|\n",
      "+------+---------+-------------+--------+---------+-----+-------------+--------------------+-----+\n",
      "only showing top 10 rows\n",
      "\n"
     ]
    }
   ],
   "source": [
    "data.select(['userId', 'auth', 'itemInSession', 'page',  'length', 'level', 'ts', 'song', 'churn']).where(data.userId == '18').show(10)"
   ]
  },
  {
   "cell_type": "code",
   "execution_count": 36,
   "metadata": {},
   "outputs": [
    {
     "name": "stdout",
     "output_type": "stream",
     "text": [
      "+------+---------+-------------+--------+---------+-----+-------------+--------------------+-----+-----------+\n",
      "|userId|     auth|itemInSession|    page|   length|level|           ts|                song|churn|churnedUser|\n",
      "+------+---------+-------------+--------+---------+-----+-------------+--------------------+-----+-----------+\n",
      "|    18|Logged In|            0|    Home|     null| paid|1538499917000|                null|    0|          1|\n",
      "|    18|Logged In|            1|NextSong|275.12118| paid|1538499933000|A Beggar On A Bea...|    0|          1|\n",
      "|    18|Logged In|            2|NextSong|268.32934| paid|1538500208000|...slowdance On T...|    0|          1|\n",
      "|    18|Logged In|            3|NextSong|178.72934| paid|1538500476000|       St. Apollonia|    0|          1|\n",
      "|    18|Logged In|            4|NextSong|188.76036| paid|1538500654000|      Drunk Stripper|    0|          1|\n",
      "|    18|Logged In|            5|NextSong|167.91465| paid|1538500842000|In League With Satan|    0|          1|\n",
      "|    18|Logged In|            6|Settings|     null| paid|1538500856000|                null|    0|          1|\n",
      "|    18|Logged In|            7|NextSong|331.38893| paid|1538501009000|           The Quest|    0|          1|\n",
      "|    18|Logged In|            8|NextSong|247.69261| paid|1538501340000|    Waking The Demon|    0|          1|\n",
      "|    18|Logged In|            9|NextSong|153.52118| paid|1538501587000|Why Do You Let Me...|    0|          1|\n",
      "+------+---------+-------------+--------+---------+-----+-------------+--------------------+-----+-----------+\n",
      "only showing top 10 rows\n",
      "\n"
     ]
    }
   ],
   "source": [
    "#windowval = Window.partitionBy('userId').orderBy(desc('ts')).rangeBetween(Window.unboundedPreceding, 0)\n",
    "#data = data.withColumn('phase', sum('downgraded').over(windowval))\n",
    "data = data.withColumn('churnedUser', max('churn').over(Window.partitionBy('userId')))\n",
    "data.select(['userId', 'auth', 'itemInSession', 'page',  'length', 'level', 'ts', 'song', 'churn', 'churnedUser']).where(data.userId == '18').show(10)"
   ]
  },
  {
   "cell_type": "code",
   "execution_count": 37,
   "metadata": {},
   "outputs": [
    {
     "data": {
      "text/plain": [
       "228108"
      ]
     },
     "execution_count": 37,
     "metadata": {},
     "output_type": "execute_result"
    }
   ],
   "source": [
    "next_song_events = data.filter(data.page == 'NextSong')\n",
    "next_song_events.count()"
   ]
  },
  {
   "cell_type": "code",
   "execution_count": 38,
   "metadata": {},
   "outputs": [
    {
     "name": "stdout",
     "output_type": "stream",
     "text": [
      "+-----------+----------------------+-----------+------------------+\n",
      "|churnedUser|count(DISTINCT userId)|count(page)|Avg Songs Per User|\n",
      "+-----------+----------------------+-----------+------------------+\n",
      "|          1|                    52|      36394| 699.8846153846154|\n",
      "|          0|                   173|     191714|1108.1734104046243|\n",
      "+-----------+----------------------+-----------+------------------+\n",
      "\n"
     ]
    }
   ],
   "source": [
    "# total_songs_played = next_song_events.groupby(next_song_events.churnedUser).count()\n",
    "songs_played = next_song_events.groupby(next_song_events.churnedUser)\\\n",
    "                        .agg(countDistinct('userId'), count('page'))\\\n",
    "                        .withColumn('Avg Songs Per User', col('count(page)')/col('count(DISTINCT userId)'))\n",
    "\n",
    "songs_played.show()"
   ]
  },
  {
   "cell_type": "code",
   "execution_count": 39,
   "metadata": {},
   "outputs": [
    {
     "name": "stdout",
     "output_type": "stream",
     "text": [
      "+------+-----------------+-------------+-------------+-----------------+----------+----------+----+------------------+\n",
      "|userId|min(registration)|      min(ts)|      max(ts)|Registration Date|  Max Date|  Min Date|Days|            Days_2|\n",
      "+------+-----------------+-------------+-------------+-----------------+----------+----------+----+------------------+\n",
      "|100010|    1538016340000|1539003534000|1542823952000|       2018-09-27|2018-11-21|2018-10-08|  55| 55.64365740740741|\n",
      "|200002|    1536269906000|1538393430000|1542324354000|       2018-09-06|2018-11-15|2018-10-01|  70| 70.07462962962963|\n",
      "|   125|    1533157139000|1539317144000|1539318918000|       2018-08-01|2018-10-12|2018-10-12|  72| 71.31688657407408|\n",
      "|   124|    1532224335000|1538407030000|1543590766000|       2018-07-22|2018-11-30|2018-10-01| 131|131.55591435185184|\n",
      "|    51|    1538080987000|1538398632000|1539761972000|       2018-09-27|2018-10-17|2018-10-01|  20|19.455844907407407|\n",
      "|     7|    1536667576000|1538567869000|1542955611000|       2018-09-11|2018-11-23|2018-10-03|  73| 72.77818287037037|\n",
      "|    15|    1538239045000|1538389415000|1543121818000|       2018-09-29|2018-11-25|2018-10-01|  57|56.513576388888886|\n",
      "|    54|    1532482662000|1538353930000|1542051608000|       2018-07-25|2018-11-12|2018-10-01| 110|110.75168981481481|\n",
      "|   155|    1541370470000|1541174185000|1543405710000|       2018-11-04|2018-11-28|2018-11-02|  24|23.556018518518517|\n",
      "|100014|    1535389443000|1539177136000|1542740649000|       2018-08-27|2018-11-20|2018-10-10|  85| 85.08340277777778|\n",
      "|   132|    1537054553000|1538470796000|1542833772000|       2018-09-15|2018-11-21|2018-10-02|  67|  66.8891087962963|\n",
      "|   154|    1541268021000|1541171735000|1543330565000|       2018-11-03|2018-11-27|2018-11-02|  24|23.872037037037035|\n",
      "|   101|    1535066380000|1538358605000|1539729037000|       2018-08-23|2018-10-16|2018-10-01|  54|        53.9659375|\n",
      "|    11|    1532554781000|1538709629000|1543309702000|       2018-07-25|2018-11-27|2018-10-05| 125|124.47825231481481|\n",
      "|   138|    1537865819000|1538777334000|1543622365000|       2018-09-25|2018-11-30|2018-10-05|  66| 66.62668981481481|\n",
      "|300017|    1537082511000|1538399646000|1543507087000|       2018-09-16|2018-11-29|2018-10-01|  74| 74.35851851851852|\n",
      "|100021|    1537550344000|1539216275000|1543143782000|       2018-09-21|2018-11-25|2018-10-11|  65| 64.73886574074074|\n",
      "|    29|    1536988041000|1538438103000|1542181031000|       2018-09-15|2018-11-14|2018-10-01|  60|60.104050925925925|\n",
      "|    69|    1536824159000|1538589999000|1542995231000|       2018-09-13|2018-11-23|2018-10-03|  71| 71.42444444444445|\n",
      "|   112|    1536032681000|1538675133000|1543589452000|       2018-09-04|2018-11-30|2018-10-04|  87| 87.46262731481481|\n",
      "+------+-----------------+-------------+-------------+-----------------+----------+----------+----+------------------+\n",
      "only showing top 20 rows\n",
      "\n"
     ]
    }
   ],
   "source": [
    "get_date = udf(lambda x: datetime.datetime.fromtimestamp(x/1000), DateType())\n",
    "convert = 1000*60*60*24\n",
    "\n",
    "temp = data.select(['userId', 'ts', 'registration'])\n",
    "registration_timestamp = temp.groupby('userId').min(\"registration\")\n",
    "min_timestmp = temp.select(['userId', 'ts']).groupby('userId').min('ts')\n",
    "max_timestmp = temp.select(['userId', 'ts']).groupby('userId').max('ts')\n",
    "\n",
    "joined = registration_timestamp.join(min_timestmp, on='userId').join(max_timestmp, on='userId')\n",
    "joined = joined.withColumn('Registration Date', get_date('min(registration)')).withColumn('Max Date', get_date('max(ts)')) \\\n",
    "               .withColumn('Min Date', get_date('min(ts)')) \\\n",
    "               .withColumn('Days',  datediff(col('Max Date'), col('Registration Date'))) \\\n",
    "               .withColumn(\"Days_2\", (col(\"max(ts)\")-col(\"min(registration)\")) / convert)\n",
    "\n",
    "joined.show()"
   ]
  },
  {
   "cell_type": "code",
   "execution_count": null,
   "metadata": {},
   "outputs": [],
   "source": []
  },
  {
   "cell_type": "code",
   "execution_count": 40,
   "metadata": {},
   "outputs": [
    {
     "name": "stdout",
     "output_type": "stream",
     "text": [
      "+-----------+---------------------+\n",
      "|churnedUser|Average Songs Per Day|\n",
      "+-----------+---------------------+\n",
      "|          1|    673.9629629629629|\n",
      "|          0|   3043.0793650793653|\n",
      "+-----------+---------------------+\n",
      "\n"
     ]
    }
   ],
   "source": [
    "temp = data.select(['userId', 'ts', 'page', 'churnedUser']).filter(data.page == 'NextSong').withColumn('date', get_date('ts'))\n",
    "count_by_days = temp.groupby(['churnedUser', 'date']).count()\n",
    "avg_songs_per_day = count_by_days.groupby('churnedUser').agg(mean('count')).withColumnRenamed('avg(count)', 'Average Songs Per Day')\n",
    "avg_songs_per_day.show()"
   ]
  },
  {
   "cell_type": "code",
   "execution_count": 41,
   "metadata": {},
   "outputs": [
    {
     "name": "stdout",
     "output_type": "stream",
     "text": [
      "+------+---------------------+\n",
      "|userId|Average Songs Per Day|\n",
      "+------+---------------------+\n",
      "|200002|   55.285714285714285|\n",
      "|100010|   39.285714285714285|\n",
      "|   125|                  8.0|\n",
      "|    51|    162.3846153846154|\n",
      "|   124|            127.46875|\n",
      "|     7|                18.75|\n",
      "|    15|   100.73684210526316|\n",
      "|    54|                 94.7|\n",
      "|   155|                102.5|\n",
      "|   132|    91.80952380952381|\n",
      "|100014|   42.833333333333336|\n",
      "|   154|                 28.0|\n",
      "|    11|              40.4375|\n",
      "|   101|   138.23076923076923|\n",
      "|300017|    75.66666666666667|\n",
      "|   138|   121.76470588235294|\n",
      "|    29|   104.41379310344827|\n",
      "|100021|                 46.0|\n",
      "|    69|                93.75|\n",
      "|    42|    87.14634146341463|\n",
      "+------+---------------------+\n",
      "only showing top 20 rows\n",
      "\n"
     ]
    }
   ],
   "source": [
    "temp = data.select(['userId', 'ts', 'page']).filter(data.page == 'NextSong').withColumn('date', get_date('ts'))\n",
    "count_by_days = temp.groupby(['userId', 'date']).count()\n",
    "avg_songs_per_day = count_by_days.groupby('userId').agg(mean('count')).withColumnRenamed('avg(count)', 'Average Songs Per Day')\n",
    "avg_songs_per_day.show()"
   ]
  },
  {
   "cell_type": "code",
   "execution_count": null,
   "metadata": {},
   "outputs": [],
   "source": []
  },
  {
   "cell_type": "markdown",
   "metadata": {},
   "source": [
    "# Feature Engineering\n",
    "Once you've familiarized yourself with the data, build out the features you find promising to train your model on. To work with the full dataset, you can follow the following steps.\n",
    "- Write a script to extract the necessary features from the smaller subset of data\n",
    "- Ensure that your script is scalable, using the best practices discussed in Lesson 3\n",
    "- Try your script on the full data set, debugging your script if necessary\n",
    "\n",
    "If you are working in the classroom workspace, you can just extract features based on the small subset of data contained here. Be sure to transfer over this work to the larger dataset when you work on your Spark cluster."
   ]
  },
  {
   "cell_type": "code",
   "execution_count": 42,
   "metadata": {},
   "outputs": [
    {
     "name": "stdout",
     "output_type": "stream",
     "text": [
      "['artist', 'auth', 'firstName', 'gender', 'itemInSession', 'lastName', 'length', 'level', 'location', 'method', 'page', 'registration', 'sessionId', 'song', 'status', 'ts', 'userAgent', 'userId', 'Churn', 'churnedUser']\n"
     ]
    }
   ],
   "source": [
    "print(data.columns)"
   ]
  },
  {
   "cell_type": "markdown",
   "metadata": {},
   "source": [
    "The columns can be divided as follows:\n",
    "   - Not useful : artist, auth, firstName, lastName, location, method, sessionId, itemInSession, song, status\n",
    "   - Useful : gender, length, level, page, registration, ts, userAgent\n",
    " \n",
    "From the above useful columns, we can create the following features for each user:\n",
    "   1. Count of different page activites\n",
    "   2. Total length of songs listened to.\n",
    "   3. Average number of songs played per day by each user.\n",
    "   4. Number of days between registration and last log entry.\n",
    "   5. Number of days used the service.\n",
    "   6. Most recent level of user.\n",
    "   7. Gender.\n",
    "   8. User Agent."
   ]
  },
  {
   "cell_type": "code",
   "execution_count": 43,
   "metadata": {},
   "outputs": [
    {
     "name": "stdout",
     "output_type": "stream",
     "text": [
      "+------+-----+----------+---------------+------+-------------------------+---------+-----+----+----+------+--------+-----------+-------------+--------+----------------+--------------+-----------+---------+-------+\n",
      "|userId|About|Add Friend|Add to Playlist|Cancel|Cancellation Confirmation|Downgrade|Error|Help|Home|Logout|NextSong|Roll Advert|Save Settings|Settings|Submit Downgrade|Submit Upgrade|Thumbs Down|Thumbs Up|Upgrade|\n",
      "+------+-----+----------+---------------+------+-------------------------+---------+-----+----+----+------+--------+-----------+-------------+--------+----------------+--------------+-----------+---------+-------+\n",
      "|200002|    3|         4|              8|     0|                        0|        5|    0|   2|  20|     5|     387|          7|            0|       3|               0|             1|          6|       21|      2|\n",
      "|100010|    1|         4|              7|     0|                        0|        0|    0|   2|  11|     5|     275|         52|            0|       0|               0|             0|          5|       17|      2|\n",
      "|   125|    0|         0|              0|     1|                        1|        0|    0|   0|   0|     0|       8|          1|            0|       0|               0|             0|          0|        0|      0|\n",
      "|    51|    2|        28|             52|     1|                        1|       23|    1|  12|  75|    24|    2111|          0|            1|      12|               0|             0|         21|      100|      0|\n",
      "|   124|    7|        74|            118|     0|                        0|       41|    6|  23| 176|    59|    4079|          4|            6|      20|               0|             0|         41|      171|      0|\n",
      "|     7|    0|         1|              5|     0|                        0|        0|    1|   1|  10|     3|     150|         16|            1|       3|               0|             0|          1|        7|      2|\n",
      "|    54|    5|        33|             72|     1|                        1|       39|    1|  17| 129|    36|    2841|         47|            3|      17|               1|             1|         29|      163|      1|\n",
      "|    15|    2|        31|             59|     0|                        0|       28|    2|   8|  93|    27|    1914|          1|            2|      16|               0|             0|         14|       81|      0|\n",
      "|   155|    2|        11|             24|     0|                        0|       12|    3|   9|  30|    14|     820|          8|            0|       5|               0|             1|          3|       58|      2|\n",
      "|   132|    4|        41|             38|     0|                        0|       19|    3|  16|  83|    34|    1928|          2|            4|      17|               0|             1|         17|       96|      1|\n",
      "|100014|    0|         6|              7|     1|                        1|        3|    0|   2|   7|     3|     257|          2|            0|       1|               0|             0|          3|       17|      0|\n",
      "|   154|    0|         3|              1|     0|                        0|        0|    0|   1|   6|     2|      84|         10|            0|       0|               0|             0|          0|       11|      0|\n",
      "|    11|    7|         6|             20|     0|                        0|        5|    1|   3|  37|    14|     647|         39|            2|       6|               1|             2|          9|       40|      9|\n",
      "|   101|    2|        29|             61|     1|                        1|       22|    3|  12|  74|    24|    1797|          8|            2|       9|               0|             1|         16|       86|      1|\n",
      "|   138|    8|        41|             67|     0|                        0|       21|    1|  13|  71|    18|    2070|         17|            4|      17|               0|             1|         24|       95|      1|\n",
      "|300017|    3|        63|            113|     0|                        0|       25|    5|  27| 151|    41|    3632|         11|            3|      23|               0|             0|         28|      303|      0|\n",
      "|    29|    2|        47|             89|     1|                        1|       18|    0|  28| 121|    41|    3028|         22|            4|      19|               0|             1|         22|      154|      5|\n",
      "|100021|    1|         7|              7|     1|                        1|        0|    2|   0|  15|     7|     230|         30|            0|       0|               0|             0|          5|       11|      2|\n",
      "|    69|    3|        12|             33|     0|                        0|        9|    4|   7|  49|    10|    1125|          3|            1|       3|               0|             1|          9|       72|      1|\n",
      "|    42|    6|        52|            104|     0|                        0|       37|    7|  20| 176|    44|    3573|         10|            7|      28|               0|             1|         25|      166|      1|\n",
      "+------+-----+----------+---------------+------+-------------------------+---------+-----+----+----+------+--------+-----------+-------------+--------+----------------+--------------+-----------+---------+-------+\n",
      "only showing top 20 rows\n",
      "\n"
     ]
    }
   ],
   "source": [
    "# Create features : Count of different page activites for each user\n",
    "df = data.select(data.userId, data.page)\n",
    "final_df = df.groupby('userId').pivot('page').count().fillna(0)\n",
    "final_df.show()"
   ]
  },
  {
   "cell_type": "code",
   "execution_count": 44,
   "metadata": {},
   "outputs": [
    {
     "data": {
      "image/png": "[encoded data removed]",
      "text/plain": [
       "<matplotlib.figure.Figure at 0x7f9996e3ae80>"
      ]
     },
     "metadata": {
      "needs_background": "light"
     },
     "output_type": "display_data"
    }
   ],
   "source": [
    "pandas_df = final_df.toPandas()\n",
    "fig, ax = plt.subplots(figsize=(50,50)) \n",
    "sns_plot = sns.heatmap(pandas_df.corr(), annot=True, cmap=\"YlGnBu\", ax=ax)\n",
    "fig = sns_plot.get_figure()\n",
    "fig.savefig(\"heatmap.png\") "
   ]
  },
  {
   "cell_type": "markdown",
   "metadata": {},
   "source": [
    "'Cancel' and 'Cancellation Confirmation' are highly correlated. So we drop the column 'Cancel', and rename 'Cancellation Confirmation' to 'label'."
   ]
  },
  {
   "cell_type": "code",
   "execution_count": 45,
   "metadata": {},
   "outputs": [],
   "source": [
    "final_df = final_df.drop('Cancel').withColumnRenamed('Cancellation Confirmation', 'label')"
   ]
  },
  {
   "cell_type": "code",
   "execution_count": 46,
   "metadata": {},
   "outputs": [],
   "source": [
    "# Add feature -  total length of all the songs played by each user.\n",
    "total_songs_length = data.filter(data.page == 'NextSong').groupby('userId').agg(sum('length'))\n",
    "\n",
    "final_df = final_df.join(total_songs_length, on = 'userId', how = 'left') \\\n",
    "                   .withColumnRenamed('NextSong', 'Total Songs Played') \\\n",
    "                   .withColumnRenamed('sum(length)', 'Total Songs Length')\n",
    "                   "
   ]
  },
  {
   "cell_type": "code",
   "execution_count": 47,
   "metadata": {},
   "outputs": [],
   "source": [
    "get_date = udf(lambda x: datetime.datetime.fromtimestamp(x/1000), DateType())"
   ]
  },
  {
   "cell_type": "code",
   "execution_count": 48,
   "metadata": {},
   "outputs": [],
   "source": [
    "# Add feature : Average number of songs played per day by each user\n",
    "temp = data.select(['userId', 'ts', 'page']).filter(data.page == 'NextSong').withColumn('date', get_date('ts'))\n",
    "count_by_days = temp.groupby(['userId', 'date']).count()\n",
    "avg_songs_per_day = count_by_days.groupby('userId').agg(mean('count')).withColumnRenamed('avg(count)', 'Average Songs Per Day')\n",
    "\n",
    "final_df = final_df.join(avg_songs_per_day, on = 'userId', how = 'left')"
   ]
  },
  {
   "cell_type": "code",
   "execution_count": 49,
   "metadata": {},
   "outputs": [],
   "source": [
    "# Add feature : Number of days between registration and last log entry\n",
    "temp = data.select(['userId', 'ts', 'registration'])\n",
    "registration_timestamp = temp.groupby('userId').min('registration')\n",
    "min_timestmp = temp.select(['userId', 'ts']).groupby('userId').min('ts')\n",
    "max_timestmp = temp.select(['userId', 'ts']).groupby('userId').max('ts')\n",
    "\n",
    "days_registered = registration_timestamp.join(min_timestmp, on='userId').join(max_timestmp, on='userId')\n",
    "days_registered = days_registered.withColumn('Registration Date', get_date('min(registration)')) \\\n",
    "                         .withColumn('Max Date', get_date('max(ts)')).withColumn('Min Date', get_date('min(ts)')) \\\n",
    "                         .withColumn('Days Registered',  datediff(col('Max Date'), col('Registration Date'))) \\\n",
    "                         .select(['userId', 'Days Registered'])\n",
    "\n",
    "final_df = final_df.join(days_registered, on = 'userId', how = 'left')"
   ]
  },
  {
   "cell_type": "code",
   "execution_count": 50,
   "metadata": {},
   "outputs": [],
   "source": [
    "# Add feature : Number of days each user has visited the site.\n",
    "temp = data.select(['userId', 'ts', 'page']).withColumn('date', get_date('ts'))\n",
    "count_by_days = temp.groupby(['userId', 'date']).count()\n",
    "days_visited = count_by_days.groupby('userId').agg(count('date')).withColumnRenamed('count(date)', 'Days Visited')\n",
    "\n",
    "final_df = final_df.join(days_visited, on = 'userId', how = 'left')"
   ]
  },
  {
   "cell_type": "code",
   "execution_count": 51,
   "metadata": {},
   "outputs": [],
   "source": [
    "# Add feature : Most recent level of user\n",
    "flag_paid_level = udf(lambda x: 1 if x == 'paid' else 0, IntegerType())\n",
    "\n",
    "levels = data.select(['userId', 'ts', 'level']).orderBy(desc('ts')).dropDuplicates(['userId']).select(['userId', 'level'])\n",
    "'''temp = data.select(['userId', 'ts', 'level'])\n",
    "max_ts = temp.groupby(['userId']).max('ts').withColumnRenamed('max(ts)', 'ts')\n",
    "levels = max_ts.join(temp, on = ['userId', 'ts'], how = 'left').select(['userId', 'level'])'''\n",
    "levels = levels.withColumn('level', flag_paid_level('level'))\n",
    "\n",
    "final_df = final_df.join(levels, on = 'userId', how = 'left')"
   ]
  },
  {
   "cell_type": "code",
   "execution_count": 52,
   "metadata": {},
   "outputs": [],
   "source": [
    "# Add feature : gender\n",
    "flag_male_gender = udf(lambda x: 1 if x == 'M' else 0, IntegerType())\n",
    "levels = data.select(['userId', 'gender']).dropDuplicates(['userId']).withColumn('gender', flag_male_gender('gender'))\n",
    "\n",
    "final_df = final_df.join(levels, on = 'userId', how = 'left')"
   ]
  },
  {
   "cell_type": "code",
   "execution_count": 53,
   "metadata": {},
   "outputs": [],
   "source": [
    "# Add feature : userAgent\n",
    "\n",
    "def extract_os_info(input):\n",
    "    if 'Windows' in input:\n",
    "        return 'Windows'\n",
    "    elif 'Linux' in input:\n",
    "        return 'Linux'\n",
    "    elif 'Mac OS X' in input:\n",
    "        return 'Mac OS X'\n",
    "\n",
    "get_os = udf(extract_os_info, StringType())\n",
    "temp_df = data.select('userId', 'userAgent').dropDuplicates(['userId']).withColumn('userAgent', get_os('userAgent'))"
   ]
  },
  {
   "cell_type": "code",
   "execution_count": 54,
   "metadata": {},
   "outputs": [],
   "source": [
    "indexer = StringIndexer(inputCol=\"userAgent\", outputCol=\"userAgentIndex\")\n",
    "temp_df = indexer.fit(temp_df).transform(temp_df)\n",
    "\n",
    "encoder = OneHotEncoderEstimator(inputCols=['userAgentIndex'], outputCols=['userAgentVec'])\n",
    "encoded = encoder.fit(temp_df).transform(temp_df).select(['userId', 'userAgentVec'])\n",
    "\n",
    "final_df = final_df.join(encoded, on = 'userId', how = 'left')"
   ]
  },
  {
   "cell_type": "code",
   "execution_count": 55,
   "metadata": {},
   "outputs": [
    {
     "name": "stdout",
     "output_type": "stream",
     "text": [
      "+------+-----+----------+---------------+-----+---------+-----+----+----+------+------------------+-----------+-------------+--------+----------------+--------------+-----------+---------+-------+------------------+---------------------+---------------+------------+-----+------+-------------+\n",
      "|userId|About|Add Friend|Add to Playlist|label|Downgrade|Error|Help|Home|Logout|Total Songs Played|Roll Advert|Save Settings|Settings|Submit Downgrade|Submit Upgrade|Thumbs Down|Thumbs Up|Upgrade|Total Songs Length|Average Songs Per Day|Days Registered|Days Visited|level|gender| userAgentVec|\n",
      "+------+-----+----------+---------------+-----+---------+-----+----+----+------+------------------+-----------+-------------+--------+----------------+--------------+-----------+---------+-------+------------------+---------------------+---------------+------------+-----+------+-------------+\n",
      "|100010|    1|         4|              7|    0|        0|    0|   2|  11|     5|               275|         52|            0|       0|               0|             0|          5|       17|      2| 66940.89735000003|   39.285714285714285|             55|           7|    0|     0|(2,[1],[1.0])|\n",
      "|200002|    3|         4|              8|    0|        5|    0|   2|  20|     5|               387|          7|            0|       3|               0|             1|          6|       21|      2| 94008.87593999993|   55.285714285714285|             70|           7|    1|     1|(2,[1],[1.0])|\n",
      "|   125|    0|         0|              0|    1|        0|    0|   0|   0|     0|                 8|          1|            0|       0|               0|             0|          0|        0|      0|2089.1131000000005|                  8.0|             72|           1|    0|     1|(2,[1],[1.0])|\n",
      "|   124|    7|        74|            118|    0|       41|    6|  23| 176|    59|              4079|          4|            6|      20|               0|             0|         41|      171|      0|1012312.0927899999|            127.46875|            131|          33|    1|     0|(2,[1],[1.0])|\n",
      "|    51|    2|        28|             52|    1|       23|    1|  12|  75|    24|              2111|          0|            1|      12|               0|             0|         21|      100|      0| 523275.8428000004|    162.3846153846154|             20|          13|    1|     1|(2,[0],[1.0])|\n",
      "|     7|    0|         1|              5|    0|        0|    1|   1|  10|     3|               150|         16|            1|       3|               0|             0|          1|        7|      2| 38034.08710000002|                18.75|             73|           8|    0|     1|(2,[0],[1.0])|\n",
      "|    15|    2|        31|             59|    0|       28|    2|   8|  93|    27|              1914|          1|            2|      16|               0|             0|         14|       81|      0|477307.60581000015|   100.73684210526316|             57|          19|    1|     1|(2,[0],[1.0])|\n",
      "|    54|    5|        33|             72|    1|       39|    1|  17| 129|    36|              2841|         47|            3|      17|               1|             1|         29|      163|      1| 711344.9195400011|                 94.7|            110|          31|    1|     0|(2,[0],[1.0])|\n",
      "|   155|    2|        11|             24|    0|       12|    3|   9|  30|    14|               820|          8|            0|       5|               0|             1|          3|       58|      2|       198779.2919|                102.5|             24|           8|    1|     0|(2,[0],[1.0])|\n",
      "|100014|    0|         6|              7|    1|        3|    0|   2|   7|     3|               257|          2|            0|       1|               0|             0|          3|       17|      0| 67703.47208000004|   42.833333333333336|             85|           6|    1|     1|(2,[0],[1.0])|\n",
      "|   132|    4|        41|             38|    0|       19|    3|  16|  83|    34|              1928|          2|            4|      17|               0|             1|         17|       96|      1| 483118.9038399997|    91.80952380952381|             67|          21|    1|     0|(2,[1],[1.0])|\n",
      "|   154|    0|         3|              1|    0|        0|    0|   1|   6|     2|                84|         10|            0|       0|               0|             0|          0|       11|      0|20660.023910000007|                 28.0|             24|           3|    0|     0|(2,[0],[1.0])|\n",
      "|   101|    2|        29|             61|    1|       22|    3|  12|  74|    24|              1797|          8|            2|       9|               0|             1|         16|       86|      1| 447464.0146699989|   138.23076923076923|             54|          13|    1|     1|(2,[0],[1.0])|\n",
      "|    11|    7|         6|             20|    0|        5|    1|   3|  37|    14|               647|         39|            2|       6|               1|             2|          9|       40|      9|159669.96303999983|              40.4375|            125|          16|    1|     0|(2,[0],[1.0])|\n",
      "|   138|    8|        41|             67|    0|       21|    1|  13|  71|    18|              2070|         17|            4|      17|               0|             1|         24|       95|      1| 512449.8827599989|   121.76470588235294|             66|          17|    1|     1|(2,[1],[1.0])|\n",
      "|300017|    3|        63|            113|    0|       25|    5|  27| 151|    41|              3632|         11|            3|      23|               0|             0|         28|      303|      0| 897406.9802100015|    75.66666666666667|             74|          50|    1|     0|(2,[1],[1.0])|\n",
      "|100021|    1|         7|              7|    1|        0|    2|   0|  15|     7|               230|         30|            0|       0|               0|             0|          5|       11|      2| 57633.17563999999|                 46.0|             65|           5|    0|     1|(2,[1],[1.0])|\n",
      "|    29|    2|        47|             89|    1|       18|    0|  28| 121|    41|              3028|         22|            4|      19|               0|             1|         22|      154|      5| 754517.5625700009|   104.41379310344827|             60|          29|    1|     1|(2,[1],[1.0])|\n",
      "|    69|    3|        12|             33|    0|        9|    4|   7|  49|    10|              1125|          3|            1|       3|               0|             1|          9|       72|      1| 286064.0256399999|                93.75|             71|          12|    1|     0|(2,[0],[1.0])|\n",
      "|   112|    1|         7|              7|    0|        0|    0|   1|  16|     3|               215|         21|            3|       4|               0|             0|          3|        9|      2| 53062.74659000002|   30.714285714285715|             87|           8|    0|     1|(2,[0],[1.0])|\n",
      "+------+-----+----------+---------------+-----+---------+-----+----+----+------+------------------+-----------+-------------+--------+----------------+--------------+-----------+---------+-------+------------------+---------------------+---------------+------------+-----+------+-------------+\n",
      "only showing top 20 rows\n",
      "\n"
     ]
    }
   ],
   "source": [
    "final_df.show()"
   ]
  },
  {
   "cell_type": "code",
   "execution_count": null,
   "metadata": {},
   "outputs": [],
   "source": []
  },
  {
   "cell_type": "markdown",
   "metadata": {},
   "source": [
    "# Modeling\n",
    "Split the full dataset into train, test, and validation sets. Test out several of the machine learning methods you learned. Evaluate the accuracy of the various models, tuning parameters as necessary. Determine your winning model based on test accuracy and report results on the validation set. Since the churned users are a fairly small subset, I suggest using F1 score as the metric to optimize."
   ]
  },
  {
   "cell_type": "code",
   "execution_count": 38,
   "metadata": {},
   "outputs": [],
   "source": [
    "feature_names = final_df.drop('userId', 'label').schema.names\n",
    "assembler = VectorAssembler(inputCols=feature_names, outputCol=\"features\")\n",
    "df = assembler.transform(final_df)\n",
    "\n",
    "scaler = StandardScaler(inputCol=\"features\", outputCol=\"scaledFeatures\")\n",
    "scalerModel = scaler.fit(df)\n",
    "scaled_df = scalerModel.transform(df)\n",
    "\n",
    "training_df, test_df = scaled_df.randomSplit([0.8, 0.2], seed=42)"
   ]
  },
  {
   "cell_type": "code",
   "execution_count": 39,
   "metadata": {},
   "outputs": [],
   "source": [
    "def evaluate_prediction(predictions):\n",
    "    '''Evaluates the input predictions. Prints accuracy and f1 score, and returns the confusion matrix.'''\n",
    "    evaluator = MulticlassClassificationEvaluator(labelCol=\"label\", predictionCol=\"prediction\", metricName=\"accuracy\")\n",
    "    accuracy = evaluator.evaluate(predictions)\n",
    "    print(\"Accuracy: \", accuracy)\n",
    "\n",
    "    evaluator = MulticlassClassificationEvaluator(labelCol=\"label\", predictionCol=\"prediction\", metricName=\"f1\")\n",
    "    f1_score = evaluator.evaluate(predictions)\n",
    "    print(\"F1 Score: \", f1_score)\n",
    "\n",
    "    confusion_matrix = predictions.groupby(\"label\").pivot(\"prediction\").count().toPandas()\n",
    "    return confusion_matrix"
   ]
  },
  {
   "cell_type": "markdown",
   "metadata": {},
   "source": [
    "#### Random Forest Classifier:"
   ]
  },
  {
   "cell_type": "code",
   "execution_count": 40,
   "metadata": {},
   "outputs": [
    {
     "name": "stdout",
     "output_type": "stream",
     "text": [
      "Accuracy:  0.8823529411764706\n",
      "F1 Score:  0.8669467787114846\n"
     ]
    },
    {
     "data": {
      "text/html": [
       "<div>\n",
       "<style scoped>\n",
       "    .dataframe tbody tr th:only-of-type {\n",
       "        vertical-align: middle;\n",
       "    }\n",
       "\n",
       "    .dataframe tbody tr th {\n",
       "        vertical-align: top;\n",
       "    }\n",
       "\n",
       "    .dataframe thead th {\n",
       "        text-align: right;\n",
       "    }\n",
       "</style>\n",
       "<table border=\"1\" class=\"dataframe\">\n",
       "  <thead>\n",
       "    <tr style=\"text-align: right;\">\n",
       "      <th></th>\n",
       "      <th>label</th>\n",
       "      <th>0.0</th>\n",
       "      <th>1.0</th>\n",
       "    </tr>\n",
       "  </thead>\n",
       "  <tbody>\n",
       "    <tr>\n",
       "      <th>0</th>\n",
       "      <td>0</td>\n",
       "      <td>26</td>\n",
       "      <td>NaN</td>\n",
       "    </tr>\n",
       "    <tr>\n",
       "      <th>1</th>\n",
       "      <td>1</td>\n",
       "      <td>4</td>\n",
       "      <td>4.0</td>\n",
       "    </tr>\n",
       "  </tbody>\n",
       "</table>\n",
       "</div>"
      ],
      "text/plain": [
       "   label  0.0  1.0\n",
       "0      0   26  NaN\n",
       "1      1    4  4.0"
      ]
     },
     "execution_count": 40,
     "metadata": {},
     "output_type": "execute_result"
    }
   ],
   "source": [
    "rf = RandomForestClassifier(featuresCol=\"scaledFeatures\", labelCol=\"label\", numTrees=50)\n",
    "rf_model = rf.fit(training_df)\n",
    "rf_predictions = rf_model.transform(test_df)\n",
    "'''evaluator = BinaryClassificationEvaluator(metricName=\"areaUnderROC\")\n",
    "areaUnderROC = evaluator.evaluate(rf_predictions)\n",
    "print(\"areaUnderROC: \", areaUnderROC)'''\n",
    "evaluate_prediction(rf_predictions)"
   ]
  },
  {
   "cell_type": "markdown",
   "metadata": {},
   "source": [
    "#### Logistic Regression:"
   ]
  },
  {
   "cell_type": "code",
   "execution_count": 41,
   "metadata": {},
   "outputs": [
    {
     "name": "stdout",
     "output_type": "stream",
     "text": [
      "Accuracy:  0.8235294117647058\n",
      "F1 Score:  0.7797160243407708\n"
     ]
    },
    {
     "data": {
      "text/html": [
       "<div>\n",
       "<style scoped>\n",
       "    .dataframe tbody tr th:only-of-type {\n",
       "        vertical-align: middle;\n",
       "    }\n",
       "\n",
       "    .dataframe tbody tr th {\n",
       "        vertical-align: top;\n",
       "    }\n",
       "\n",
       "    .dataframe thead th {\n",
       "        text-align: right;\n",
       "    }\n",
       "</style>\n",
       "<table border=\"1\" class=\"dataframe\">\n",
       "  <thead>\n",
       "    <tr style=\"text-align: right;\">\n",
       "      <th></th>\n",
       "      <th>label</th>\n",
       "      <th>0.0</th>\n",
       "      <th>1.0</th>\n",
       "    </tr>\n",
       "  </thead>\n",
       "  <tbody>\n",
       "    <tr>\n",
       "      <th>0</th>\n",
       "      <td>0</td>\n",
       "      <td>26</td>\n",
       "      <td>NaN</td>\n",
       "    </tr>\n",
       "    <tr>\n",
       "      <th>1</th>\n",
       "      <td>1</td>\n",
       "      <td>6</td>\n",
       "      <td>2.0</td>\n",
       "    </tr>\n",
       "  </tbody>\n",
       "</table>\n",
       "</div>"
      ],
      "text/plain": [
       "   label  0.0  1.0\n",
       "0      0   26  NaN\n",
       "1      1    6  2.0"
      ]
     },
     "execution_count": 41,
     "metadata": {},
     "output_type": "execute_result"
    }
   ],
   "source": [
    "lr = LogisticRegression(featuresCol=\"scaledFeatures\", labelCol=\"label\", maxIter=50, regParam=0.01)\n",
    "lr_model = lr.fit(training_df)\n",
    "lr_predictions = lr_model.transform(test_df)\n",
    "evaluate_prediction(lr_predictions)"
   ]
  },
  {
   "cell_type": "markdown",
   "metadata": {},
   "source": [
    "#### Gradient-Boosted Tree Classifier:"
   ]
  },
  {
   "cell_type": "code",
   "execution_count": 42,
   "metadata": {},
   "outputs": [
    {
     "name": "stdout",
     "output_type": "stream",
     "text": [
      "Accuracy:  0.7647058823529411\n",
      "F1 Score:  0.7647058823529412\n"
     ]
    },
    {
     "data": {
      "text/html": [
       "<div>\n",
       "<style scoped>\n",
       "    .dataframe tbody tr th:only-of-type {\n",
       "        vertical-align: middle;\n",
       "    }\n",
       "\n",
       "    .dataframe tbody tr th {\n",
       "        vertical-align: top;\n",
       "    }\n",
       "\n",
       "    .dataframe thead th {\n",
       "        text-align: right;\n",
       "    }\n",
       "</style>\n",
       "<table border=\"1\" class=\"dataframe\">\n",
       "  <thead>\n",
       "    <tr style=\"text-align: right;\">\n",
       "      <th></th>\n",
       "      <th>label</th>\n",
       "      <th>0.0</th>\n",
       "      <th>1.0</th>\n",
       "    </tr>\n",
       "  </thead>\n",
       "  <tbody>\n",
       "    <tr>\n",
       "      <th>0</th>\n",
       "      <td>0</td>\n",
       "      <td>22</td>\n",
       "      <td>4</td>\n",
       "    </tr>\n",
       "    <tr>\n",
       "      <th>1</th>\n",
       "      <td>1</td>\n",
       "      <td>4</td>\n",
       "      <td>4</td>\n",
       "    </tr>\n",
       "  </tbody>\n",
       "</table>\n",
       "</div>"
      ],
      "text/plain": [
       "   label  0.0  1.0\n",
       "0      0   22    4\n",
       "1      1    4    4"
      ]
     },
     "execution_count": 42,
     "metadata": {},
     "output_type": "execute_result"
    }
   ],
   "source": [
    "gbt = GBTClassifier(featuresCol=\"scaledFeatures\", labelCol=\"label\", maxIter=50)\n",
    "gbt_model = gbt.fit(training_df)\n",
    "gbt_predictions = gbt_model.transform(test_df)\n",
    "evaluate_prediction(gbt_predictions)"
   ]
  },
  {
   "cell_type": "markdown",
   "metadata": {},
   "source": [
    "Random Forest gives the highest F1 score. Let's continue with Random Forest."
   ]
  },
  {
   "cell_type": "markdown",
   "metadata": {},
   "source": [
    "#### Creating Pipeline with Random Forest:"
   ]
  },
  {
   "cell_type": "code",
   "execution_count": 40,
   "metadata": {},
   "outputs": [
    {
     "name": "stdout",
     "output_type": "stream",
     "text": [
      "Accuracy:  0.7647058823529411\n",
      "F1 Score:  0.706288032454361\n"
     ]
    },
    {
     "data": {
      "text/html": [
       "<div>\n",
       "<style scoped>\n",
       "    .dataframe tbody tr th:only-of-type {\n",
       "        vertical-align: middle;\n",
       "    }\n",
       "\n",
       "    .dataframe tbody tr th {\n",
       "        vertical-align: top;\n",
       "    }\n",
       "\n",
       "    .dataframe thead th {\n",
       "        text-align: right;\n",
       "    }\n",
       "</style>\n",
       "<table border=\"1\" class=\"dataframe\">\n",
       "  <thead>\n",
       "    <tr style=\"text-align: right;\">\n",
       "      <th></th>\n",
       "      <th>label</th>\n",
       "      <th>0.0</th>\n",
       "      <th>1.0</th>\n",
       "    </tr>\n",
       "  </thead>\n",
       "  <tbody>\n",
       "    <tr>\n",
       "      <th>0</th>\n",
       "      <td>0</td>\n",
       "      <td>25</td>\n",
       "      <td>1</td>\n",
       "    </tr>\n",
       "    <tr>\n",
       "      <th>1</th>\n",
       "      <td>1</td>\n",
       "      <td>7</td>\n",
       "      <td>1</td>\n",
       "    </tr>\n",
       "  </tbody>\n",
       "</table>\n",
       "</div>"
      ],
      "text/plain": [
       "   label  0.0  1.0\n",
       "0      0   25    1\n",
       "1      1    7    1"
      ]
     },
     "execution_count": 40,
     "metadata": {},
     "output_type": "execute_result"
    }
   ],
   "source": [
    "training_df, test_df = final_df.randomSplit([0.8, 0.2], seed=42)\n",
    "#validation_df, test_df = rest.randomSplit([0.5,0.5], seed=42)\n",
    "\n",
    "feature_names = final_df.drop('userId', 'label').schema.names\n",
    "\n",
    "assembler = VectorAssembler(inputCols=feature_names, outputCol=\"features\")\n",
    "scaler = StandardScaler(inputCol=\"features\", outputCol=\"scaledFeatures\")\n",
    "rf = RandomForestClassifier(featuresCol=\"scaledFeatures\", labelCol=\"label\", numTrees=10)\n",
    "\n",
    "pipeline = Pipeline(stages=[assembler, scaler, rf])\n",
    "model = pipeline.fit(training_df)\n",
    "preds = model.transform(test_df)\n",
    "evaluate_prediction(preds)"
   ]
  },
  {
   "cell_type": "markdown",
   "metadata": {},
   "source": [
    "#### Model Tuning:"
   ]
  },
  {
   "cell_type": "code",
   "execution_count": 41,
   "metadata": {},
   "outputs": [
    {
     "name": "stdout",
     "output_type": "stream",
     "text": [
      "Accuracy:  0.8529411764705882\n",
      "F1 Score:  0.8259686649779528\n"
     ]
    },
    {
     "data": {
      "text/html": [
       "<div>\n",
       "<style scoped>\n",
       "    .dataframe tbody tr th:only-of-type {\n",
       "        vertical-align: middle;\n",
       "    }\n",
       "\n",
       "    .dataframe tbody tr th {\n",
       "        vertical-align: top;\n",
       "    }\n",
       "\n",
       "    .dataframe thead th {\n",
       "        text-align: right;\n",
       "    }\n",
       "</style>\n",
       "<table border=\"1\" class=\"dataframe\">\n",
       "  <thead>\n",
       "    <tr style=\"text-align: right;\">\n",
       "      <th></th>\n",
       "      <th>label</th>\n",
       "      <th>0.0</th>\n",
       "      <th>1.0</th>\n",
       "    </tr>\n",
       "  </thead>\n",
       "  <tbody>\n",
       "    <tr>\n",
       "      <th>0</th>\n",
       "      <td>0</td>\n",
       "      <td>26</td>\n",
       "      <td>NaN</td>\n",
       "    </tr>\n",
       "    <tr>\n",
       "      <th>1</th>\n",
       "      <td>1</td>\n",
       "      <td>5</td>\n",
       "      <td>3.0</td>\n",
       "    </tr>\n",
       "  </tbody>\n",
       "</table>\n",
       "</div>"
      ],
      "text/plain": [
       "   label  0.0  1.0\n",
       "0      0   26  NaN\n",
       "1      1    5  3.0"
      ]
     },
     "execution_count": 41,
     "metadata": {},
     "output_type": "execute_result"
    }
   ],
   "source": [
    "# TODO: write your code for this step\n",
    "paramGrid = ParamGridBuilder().addGrid(rf.numTrees, [10, 50, 100]).addGrid(rf.maxDepth,[2, 4, 10]).build()\n",
    "\n",
    "crossval = CrossValidator(estimator=pipeline, estimatorParamMaps=paramGrid, \n",
    "                          evaluator=MulticlassClassificationEvaluator(metricName=\"f1\"), numFolds=3)\n",
    "cv_model = crossval.fit(training_df)\n",
    "predictions = cv_model.transform(test_df)\n",
    "evaluate_prediction(predictions)"
   ]
  },
  {
   "cell_type": "code",
   "execution_count": 42,
   "metadata": {},
   "outputs": [
    {
     "data": {
      "text/plain": [
       "PipelineModel_06896808b7d9"
      ]
     },
     "execution_count": 42,
     "metadata": {},
     "output_type": "execute_result"
    }
   ],
   "source": [
    "best_model = cv_model.bestModel\n",
    "best_model"
   ]
  },
  {
   "cell_type": "markdown",
   "metadata": {},
   "source": [
    "# Final Steps\n",
    "Clean up your code, adding comments and renaming variables to make the code easier to read and maintain. Refer to the Spark Project Overview page and Data Scientist Capstone Project Rubric to make sure you are including all components of the capstone project and meet all expectations. Remember, this includes thorough documentation in a README file in a Github repository, as well as a web app or blog post."
   ]
  }
 ],
 "metadata": {
  "kernelspec": {
   "display_name": "Python 3",
   "language": "python",
   "name": "python3"
  },
  "language_info": {
   "codemirror_mode": {
    "name": "ipython",
    "version": 3
   },
   "file_extension": ".py",
   "mimetype": "text/x-python",
   "name": "python",
   "nbconvert_exporter": "python",
   "pygments_lexer": "ipython3",
   "version": "3.6.3"
  }
 },
 "nbformat": 4,
 "nbformat_minor": 2
}
