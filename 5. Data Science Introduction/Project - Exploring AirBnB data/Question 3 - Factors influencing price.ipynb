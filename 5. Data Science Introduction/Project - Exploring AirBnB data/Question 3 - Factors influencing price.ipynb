{
 "cells": [
  {
   "cell_type": "markdown",
   "metadata": {},
   "source": [
    "## Business Question 3 - Factors influencing price"
   ]
  },
  {
   "cell_type": "code",
   "execution_count": 1,
   "metadata": {},
   "outputs": [],
   "source": [
    "import pandas as pd\n",
    "import numpy as np\n",
    "import matplotlib.pyplot as plt\n",
    "import seaborn as sns\n",
    "\n",
    "from sklearn.preprocessing import Imputer, StandardScaler, MinMaxScaler\n",
    "from sklearn.model_selection import train_test_split, RandomizedSearchCV\n",
    "from sklearn.linear_model import LinearRegression\n",
    "from sklearn.ensemble import RandomForestRegressor\n",
    "from sklearn.metrics import r2_score, mean_squared_error\n",
    "\n",
    "%matplotlib inline"
   ]
  },
  {
   "cell_type": "code",
   "execution_count": 35,
   "metadata": {},
   "outputs": [
    {
     "data": {
      "text/html": [
       "<div>\n",
       "<style scoped>\n",
       "    .dataframe tbody tr th:only-of-type {\n",
       "        vertical-align: middle;\n",
       "    }\n",
       "\n",
       "    .dataframe tbody tr th {\n",
       "        vertical-align: top;\n",
       "    }\n",
       "\n",
       "    .dataframe thead th {\n",
       "        text-align: right;\n",
       "    }\n",
       "</style>\n",
       "<table border=\"1\" class=\"dataframe\">\n",
       "  <thead>\n",
       "    <tr style=\"text-align: right;\">\n",
       "      <th></th>\n",
       "      <th>id</th>\n",
       "      <th>host_response_time</th>\n",
       "      <th>host_response_rate</th>\n",
       "      <th>host_acceptance_rate</th>\n",
       "      <th>host_is_superhost</th>\n",
       "      <th>host_total_listings_count</th>\n",
       "      <th>host_has_profile_pic</th>\n",
       "      <th>host_identity_verified</th>\n",
       "      <th>neighbourhood_group_cleansed</th>\n",
       "      <th>latitude</th>\n",
       "      <th>...</th>\n",
       "      <th>review_scores_cleanliness</th>\n",
       "      <th>review_scores_checkin</th>\n",
       "      <th>review_scores_communication</th>\n",
       "      <th>review_scores_location</th>\n",
       "      <th>review_scores_value</th>\n",
       "      <th>instant_bookable</th>\n",
       "      <th>cancellation_policy</th>\n",
       "      <th>require_guest_profile_picture</th>\n",
       "      <th>require_guest_phone_verification</th>\n",
       "      <th>reviews_per_month</th>\n",
       "    </tr>\n",
       "  </thead>\n",
       "  <tbody>\n",
       "    <tr>\n",
       "      <th>0</th>\n",
       "      <td>241032</td>\n",
       "      <td>within a few hours</td>\n",
       "      <td>96%</td>\n",
       "      <td>100%</td>\n",
       "      <td>f</td>\n",
       "      <td>3.0</td>\n",
       "      <td>t</td>\n",
       "      <td>t</td>\n",
       "      <td>Queen Anne</td>\n",
       "      <td>47.636289</td>\n",
       "      <td>...</td>\n",
       "      <td>10.0</td>\n",
       "      <td>10.0</td>\n",
       "      <td>10.0</td>\n",
       "      <td>9.0</td>\n",
       "      <td>10.0</td>\n",
       "      <td>f</td>\n",
       "      <td>moderate</td>\n",
       "      <td>f</td>\n",
       "      <td>f</td>\n",
       "      <td>4.07</td>\n",
       "    </tr>\n",
       "    <tr>\n",
       "      <th>1</th>\n",
       "      <td>953595</td>\n",
       "      <td>within an hour</td>\n",
       "      <td>98%</td>\n",
       "      <td>100%</td>\n",
       "      <td>t</td>\n",
       "      <td>6.0</td>\n",
       "      <td>t</td>\n",
       "      <td>t</td>\n",
       "      <td>Queen Anne</td>\n",
       "      <td>47.639123</td>\n",
       "      <td>...</td>\n",
       "      <td>10.0</td>\n",
       "      <td>10.0</td>\n",
       "      <td>10.0</td>\n",
       "      <td>10.0</td>\n",
       "      <td>10.0</td>\n",
       "      <td>f</td>\n",
       "      <td>strict</td>\n",
       "      <td>t</td>\n",
       "      <td>t</td>\n",
       "      <td>1.48</td>\n",
       "    </tr>\n",
       "    <tr>\n",
       "      <th>2</th>\n",
       "      <td>3308979</td>\n",
       "      <td>within a few hours</td>\n",
       "      <td>67%</td>\n",
       "      <td>100%</td>\n",
       "      <td>f</td>\n",
       "      <td>2.0</td>\n",
       "      <td>t</td>\n",
       "      <td>t</td>\n",
       "      <td>Queen Anne</td>\n",
       "      <td>47.629724</td>\n",
       "      <td>...</td>\n",
       "      <td>10.0</td>\n",
       "      <td>10.0</td>\n",
       "      <td>10.0</td>\n",
       "      <td>10.0</td>\n",
       "      <td>10.0</td>\n",
       "      <td>f</td>\n",
       "      <td>strict</td>\n",
       "      <td>f</td>\n",
       "      <td>f</td>\n",
       "      <td>1.15</td>\n",
       "    </tr>\n",
       "    <tr>\n",
       "      <th>3</th>\n",
       "      <td>7421966</td>\n",
       "      <td>NaN</td>\n",
       "      <td>NaN</td>\n",
       "      <td>NaN</td>\n",
       "      <td>f</td>\n",
       "      <td>1.0</td>\n",
       "      <td>t</td>\n",
       "      <td>t</td>\n",
       "      <td>Queen Anne</td>\n",
       "      <td>47.638473</td>\n",
       "      <td>...</td>\n",
       "      <td>NaN</td>\n",
       "      <td>NaN</td>\n",
       "      <td>NaN</td>\n",
       "      <td>NaN</td>\n",
       "      <td>NaN</td>\n",
       "      <td>f</td>\n",
       "      <td>flexible</td>\n",
       "      <td>f</td>\n",
       "      <td>f</td>\n",
       "      <td>NaN</td>\n",
       "    </tr>\n",
       "    <tr>\n",
       "      <th>4</th>\n",
       "      <td>278830</td>\n",
       "      <td>within an hour</td>\n",
       "      <td>100%</td>\n",
       "      <td>NaN</td>\n",
       "      <td>f</td>\n",
       "      <td>2.0</td>\n",
       "      <td>t</td>\n",
       "      <td>t</td>\n",
       "      <td>Queen Anne</td>\n",
       "      <td>47.632918</td>\n",
       "      <td>...</td>\n",
       "      <td>9.0</td>\n",
       "      <td>10.0</td>\n",
       "      <td>10.0</td>\n",
       "      <td>9.0</td>\n",
       "      <td>9.0</td>\n",
       "      <td>f</td>\n",
       "      <td>strict</td>\n",
       "      <td>f</td>\n",
       "      <td>f</td>\n",
       "      <td>0.89</td>\n",
       "    </tr>\n",
       "  </tbody>\n",
       "</table>\n",
       "<p>5 rows × 43 columns</p>\n",
       "</div>"
      ],
      "text/plain": [
       "        id  host_response_time host_response_rate host_acceptance_rate  \\\n",
       "0   241032  within a few hours                96%                 100%   \n",
       "1   953595      within an hour                98%                 100%   \n",
       "2  3308979  within a few hours                67%                 100%   \n",
       "3  7421966                 NaN                NaN                  NaN   \n",
       "4   278830      within an hour               100%                  NaN   \n",
       "\n",
       "  host_is_superhost  host_total_listings_count host_has_profile_pic  \\\n",
       "0                 f                        3.0                    t   \n",
       "1                 t                        6.0                    t   \n",
       "2                 f                        2.0                    t   \n",
       "3                 f                        1.0                    t   \n",
       "4                 f                        2.0                    t   \n",
       "\n",
       "  host_identity_verified neighbourhood_group_cleansed   latitude  \\\n",
       "0                      t                   Queen Anne  47.636289   \n",
       "1                      t                   Queen Anne  47.639123   \n",
       "2                      t                   Queen Anne  47.629724   \n",
       "3                      t                   Queen Anne  47.638473   \n",
       "4                      t                   Queen Anne  47.632918   \n",
       "\n",
       "         ...         review_scores_cleanliness review_scores_checkin  \\\n",
       "0        ...                              10.0                  10.0   \n",
       "1        ...                              10.0                  10.0   \n",
       "2        ...                              10.0                  10.0   \n",
       "3        ...                               NaN                   NaN   \n",
       "4        ...                               9.0                  10.0   \n",
       "\n",
       "  review_scores_communication review_scores_location  review_scores_value  \\\n",
       "0                        10.0                    9.0                 10.0   \n",
       "1                        10.0                   10.0                 10.0   \n",
       "2                        10.0                   10.0                 10.0   \n",
       "3                         NaN                    NaN                  NaN   \n",
       "4                        10.0                    9.0                  9.0   \n",
       "\n",
       "   instant_bookable  cancellation_policy  require_guest_profile_picture  \\\n",
       "0                 f             moderate                              f   \n",
       "1                 f               strict                              t   \n",
       "2                 f               strict                              f   \n",
       "3                 f             flexible                              f   \n",
       "4                 f               strict                              f   \n",
       "\n",
       "  require_guest_phone_verification reviews_per_month  \n",
       "0                                f              4.07  \n",
       "1                                t              1.48  \n",
       "2                                f              1.15  \n",
       "3                                f               NaN  \n",
       "4                                f              0.89  \n",
       "\n",
       "[5 rows x 43 columns]"
      ]
     },
     "execution_count": 35,
     "metadata": {},
     "output_type": "execute_result"
    }
   ],
   "source": [
    "df = pd.read_csv('./Seattle/listings.csv')\n",
    "selected_columns = ['id', 'host_response_time', 'host_response_rate', 'host_acceptance_rate', 'host_is_superhost',\n",
    "                    'host_total_listings_count', 'host_has_profile_pic', 'host_identity_verified',\n",
    "                    'neighbourhood_group_cleansed', 'latitude', 'longitude', 'is_location_exact',\n",
    "                    'property_type', 'room_type', 'accommodates', 'bathrooms', 'bedrooms', 'beds', 'bed_type', \n",
    "                    'amenities', 'square_feet', 'price', 'weekly_price', 'monthly_price', 'security_deposit', 'cleaning_fee',\n",
    "                    'guests_included', 'extra_people', 'minimum_nights', 'maximum_nights',\n",
    "                    'number_of_reviews', 'review_scores_rating', 'review_scores_accuracy', 'review_scores_cleanliness', \n",
    "                    'review_scores_checkin', 'review_scores_communication', 'review_scores_location', 'review_scores_value', \n",
    "                    'instant_bookable', 'cancellation_policy', 'require_guest_profile_picture', \n",
    "                    'require_guest_phone_verification', 'reviews_per_month']\n",
    "listings_df = df[selected_columns]\n",
    "listings_df.shape\n",
    "listings_df.head()"
   ]
  },
  {
   "cell_type": "markdown",
   "metadata": {},
   "source": [
    "To understand why the above 43 columns are selected, please refer to the notebook Business and Data Understanding.pynb."
   ]
  },
  {
   "cell_type": "markdown",
   "metadata": {},
   "source": [
    "### Data Preparation"
   ]
  },
  {
   "cell_type": "code",
   "execution_count": 37,
   "metadata": {},
   "outputs": [
    {
     "name": "stdout",
     "output_type": "stream",
     "text": [
      "square_feet                    0.974594\n",
      "monthly_price                  0.602672\n",
      "security_deposit               0.511262\n",
      "weekly_price                   0.473808\n",
      "cleaning_fee                   0.269775\n",
      "host_acceptance_rate           0.202462\n",
      "review_scores_checkin          0.172342\n",
      "review_scores_accuracy         0.172342\n",
      "review_scores_value            0.171818\n",
      "review_scores_location         0.171556\n",
      "review_scores_cleanliness      0.171032\n",
      "review_scores_communication    0.170508\n",
      "review_scores_rating           0.169460\n",
      "reviews_per_month              0.164222\n",
      "host_response_rate             0.136983\n",
      "host_response_time             0.136983\n",
      "bathrooms                      0.004191\n",
      "bedrooms                       0.001572\n",
      "host_identity_verified         0.000524\n",
      "host_has_profile_pic           0.000524\n",
      "host_total_listings_count      0.000524\n",
      "host_is_superhost              0.000524\n",
      "property_type                  0.000262\n",
      "beds                           0.000262\n",
      "dtype: float64\n"
     ]
    },
    {
     "data": {
      "image/png": "[encoded data removed]",
      "text/plain": [
       "<Figure size 1080x720 with 1 Axes>"
      ]
     },
     "metadata": {
      "needs_background": "light"
     },
     "output_type": "display_data"
    }
   ],
   "source": [
    "# check missing values in columns\n",
    "nan_percentage_per_column = listings_df.isnull().mean()\n",
    "columns_with_nan = nan_percentage_per_column[nan_percentage_per_column > 0]\n",
    "columns_with_nan.sort_values(inplace=True, ascending=False)\n",
    "print(columns_with_nan)\n",
    "\n",
    "columns_with_nan.plot.bar(figsize=(15, 10))\n",
    "plt.xlabel('Column name')\n",
    "plt.ylabel('Proportion of missing values')\n",
    "plt.grid(True)\n",
    "plt.title('Bar chart of proportion of missing values per column')\n",
    "plt.show()"
   ]
  },
  {
   "cell_type": "code",
   "execution_count": 4,
   "metadata": {},
   "outputs": [
    {
     "name": "stdout",
     "output_type": "stream",
     "text": [
      "square_feet         0.974594\n",
      "weekly_price        0.473808\n",
      "monthly_price       0.602672\n",
      "security_deposit    0.511262\n",
      "cleaning_fee        0.269775\n",
      "dtype: float64\n"
     ]
    }
   ],
   "source": [
    "outlier_columns = nan_percentage_per_column[nan_percentage_per_column > 0.25]\n",
    "print(outlier_columns)"
   ]
  },
  {
   "cell_type": "code",
   "execution_count": 5,
   "metadata": {},
   "outputs": [
    {
     "name": "stderr",
     "output_type": "stream",
     "text": [
      "C:\\Users\\Rehan.Ahmar\\AppData\\Local\\Continuum\\Anaconda3\\lib\\site-packages\\pandas\\core\\frame.py:3697: SettingWithCopyWarning: \n",
      "A value is trying to be set on a copy of a slice from a DataFrame\n",
      "\n",
      "See the caveats in the documentation: http://pandas.pydata.org/pandas-docs/stable/indexing.html#indexing-view-versus-copy\n",
      "  errors=errors)\n"
     ]
    }
   ],
   "source": [
    "listings_df.drop(outlier_columns.index, axis=1, inplace=True)"
   ]
  },
  {
   "cell_type": "code",
   "execution_count": 6,
   "metadata": {},
   "outputs": [],
   "source": [
    "listings_df.drop(['id'], axis=1, inplace=True)"
   ]
  },
  {
   "cell_type": "markdown",
   "metadata": {},
   "source": [
    "We can see the column square_feet has 97% missing values. We can drop this column.\n",
    "\n",
    "The columns monthly_price, security_deposit, weekly_price, cleaning_fee also have more than 25% missing values. Moreover, neither we are interested in predicting these values, nor these columns seem to provide much useful information. A listing with high daily price will have higher values in these fields also. So, we drop these columns.\n",
    "\n",
    "Also, id of listings are of no use in predicting the price. So we drop the 'id' also."
   ]
  },
  {
   "cell_type": "code",
   "execution_count": 7,
   "metadata": {},
   "outputs": [
    {
     "name": "stdout",
     "output_type": "stream",
     "text": [
      "host_response_time \t 4 \t object \t ['within a few hours' 'within an hour' nan 'within a day'\n",
      " 'a few days or more']\n",
      "host_response_rate \t 45 \t object \t ['96%' '98%' '67%' nan '100%' '71%' '97%' '60%' '50%' '31%' '90%' '70%'\n",
      " '88%' '80%' '63%' '33%' '99%' '75%' '83%' '94%' '58%' '43%' '93%' '92%'\n",
      " '40%' '57%' '89%' '95%' '78%' '81%' '91%' '38%' '86%' '30%' '56%' '76%'\n",
      " '64%' '82%' '17%' '87%' '25%' '69%' '53%' '65%' '68%' '55%']\n",
      "host_acceptance_rate \t 2 \t object \t ['100%' nan '0%']\n",
      "host_is_superhost \t 2 \t object \t ['f' 't' nan]\n",
      "host_has_profile_pic \t 2 \t object \t ['t' 'f' nan]\n",
      "host_identity_verified \t 2 \t object \t ['t' 'f' nan]\n",
      "neighbourhood_group_cleansed \t 17 \t object \t ['Queen Anne' 'Ballard' 'Other neighborhoods' 'Cascade' 'Central Area'\n",
      " 'University District' 'Downtown' 'Magnolia' 'West Seattle' 'Interbay'\n",
      " 'Beacon Hill' 'Rainier Valley' 'Delridge' 'Seward Park' 'Northgate'\n",
      " 'Capitol Hill' 'Lake City']\n",
      "is_location_exact \t 2 \t object \t ['t' 'f']\n",
      "property_type \t 16 \t object \t ['Apartment' 'House' 'Cabin' 'Condominium' 'Camper/RV' 'Bungalow'\n",
      " 'Townhouse' 'Loft' 'Boat' 'Bed & Breakfast' 'Other' 'Dorm' 'Treehouse'\n",
      " 'Yurt' 'Chalet' 'Tent' nan]\n",
      "room_type \t 3 \t object \t ['Entire home/apt' 'Private room' 'Shared room']\n",
      "bed_type \t 5 \t object \t ['Real Bed' 'Futon' 'Pull-out Sofa' 'Airbed' 'Couch']\n",
      "amenities \t 3284 \t object \t ['{TV,\"Cable TV\",Internet,\"Wireless Internet\",\"Air Conditioning\",Kitchen,Heating,\"Family/Kid Friendly\",Washer,Dryer}'\n",
      " '{TV,Internet,\"Wireless Internet\",Kitchen,\"Free Parking on Premises\",\"Buzzer/Wireless Intercom\",Heating,\"Family/Kid Friendly\",Washer,Dryer,\"Smoke Detector\",\"Carbon Monoxide Detector\",\"First Aid Kit\",\"Safety Card\",\"Fire Extinguisher\",Essentials}'\n",
      " '{TV,\"Cable TV\",Internet,\"Wireless Internet\",\"Air Conditioning\",Kitchen,\"Free Parking on Premises\",\"Pets Allowed\",\"Pets live on this property\",Dog(s),Cat(s),\"Hot Tub\",\"Indoor Fireplace\",Heating,\"Family/Kid Friendly\",Washer,Dryer,\"Smoke Detector\",\"Carbon Monoxide Detector\",Essentials,Shampoo}'\n",
      " ...\n",
      " '{\"Cable TV\",\"Wireless Internet\",Kitchen,\"Free Parking on Premises\",Breakfast,\"Pets live on this property\",Dog(s),Cat(s),Heating,Washer,Dryer,\"Smoke Detector\",\"First Aid Kit\",\"Safety Card\",\"Fire Extinguisher\",Essentials,Hangers,\"Hair Dryer\",Iron,\"Laptop Friendly Workspace\"}'\n",
      " '{TV,\"Wireless Internet\",Kitchen,\"Free Parking on Premises\",\"Elevator in Building\",Heating,\"Smoke Detector\",Essentials,Hangers,\"Hair Dryer\",\"Laptop Friendly Workspace\"}'\n",
      " '{TV,\"Cable TV\",Internet,\"Wireless Internet\",Kitchen,\"Free Parking on Premises\",\"Pets live on this property\",Dog(s),\"Elevator in Building\",\"Hot Tub\",\"Indoor Fireplace\",\"Buzzer/Wireless Intercom\",Heating,\"Family/Kid Friendly\",Washer,Dryer,\"Smoke Detector\",Essentials,Shampoo,Hangers,Iron,\"Laptop Friendly Workspace\"}']\n",
      "price \t 273 \t object \t ['$85.00' '$150.00' '$975.00' '$100.00' '$450.00' '$120.00' '$80.00'\n",
      " '$60.00' '$90.00' '$95.00' '$99.00' '$245.00' '$165.00' '$461.00'\n",
      " '$109.00' '$66.00' '$200.00' '$700.00' '$110.00' '$75.00' '$600.00'\n",
      " '$45.00' '$300.00' '$175.00' '$325.00' '$222.00' '$159.00' '$125.00'\n",
      " '$348.00' '$148.00' '$350.00' '$349.00' '$160.00' '$130.00' '$137.00'\n",
      " '$20.00' '$145.00' '$400.00' '$70.00' '$170.00' '$465.00' '$50.00'\n",
      " '$59.00' '$47.00' '$55.00' '$65.00' '$25.00' '$40.00' '$149.00' '$129.00'\n",
      " '$105.00' '$218.00' '$126.00' '$115.00' '$225.00' '$89.00' '$134.00'\n",
      " '$375.00' '$97.00' '$197.00' '$135.00' '$180.00' '$69.00' '$195.00'\n",
      " '$224.00' '$338.00' '$79.00' '$49.00' '$57.00' '$96.00' '$295.00'\n",
      " '$53.00' '$35.00' '$133.00' '$61.00' '$52.00' '$275.00' '$199.00'\n",
      " '$435.00' '$250.00' '$116.00' '$39.00' '$98.00' '$73.00' '$190.00'\n",
      " '$68.00' '$196.00' '$209.00' '$749.00' '$285.00' '$235.00' '$103.00'\n",
      " '$143.00' '$142.00' '$335.00' '$499.00' '$156.00' '$94.00' '$219.00'\n",
      " '$91.00' '$74.00' '$140.00' '$104.00' '$122.00' '$158.00' '$42.00'\n",
      " '$185.00' '$680.00' '$119.00' '$575.00' '$139.00' '$259.00' '$166.00'\n",
      " '$215.00' '$249.00' '$210.00' '$439.00' '$155.00' '$54.00' '$254.00'\n",
      " '$310.00' '$490.00' '$255.00' '$144.00' '$46.00' '$445.00' '$395.00'\n",
      " '$88.00' '$425.00' '$114.00' '$117.00' '$107.00' '$76.00' '$179.00'\n",
      " '$84.00' '$265.00' '$92.00' '$550.00' '$111.00' '$141.00' '$775.00'\n",
      " '$78.00' '$48.00' '$82.00' '$169.00' '$58.00' '$240.00' '$189.00'\n",
      " '$500.00' '$41.00' '$43.00' '$44.00' '$30.00' '$112.00' '$63.00' '$28.00'\n",
      " '$93.00' '$306.00' '$29.00' '$83.00' '$118.00' '$128.00' '$168.00'\n",
      " '$62.00' '$380.00' '$157.00' '$203.00' '$56.00' '$330.00' '$67.00'\n",
      " '$72.00' '$81.00' '$124.00' '$108.00' '$220.00' '$37.00' '$270.00'\n",
      " '$87.00' '$287.00' '$279.00' '$257.00' '$163.00' '$64.00' '$38.00'\n",
      " '$557.00' '$299.00' '$311.00' '$357.00' '$138.00' '$183.00' '$229.00'\n",
      " '$333.00' '$147.00' '$280.00' '$178.00' '$480.00' '$172.00' '$999.00'\n",
      " '$320.00' '$127.00' '$405.00' '$899.00' '$239.00' '$131.00' '$113.00'\n",
      " '$106.00' '$475.00' '$205.00' '$181.00' '$399.00' '$193.00' '$444.00'\n",
      " '$187.00' '$186.00' '$171.00' '$230.00' '$167.00' '$151.00' '$132.00'\n",
      " '$365.00' '$121.00' '$188.00' '$276.00' '$290.00' '$237.00' '$77.00'\n",
      " '$174.00' '$153.00' '$269.00' '$495.00' '$101.00' '$370.00' '$136.00'\n",
      " '$51.00' '$34.00' '$26.00' '$86.00' '$177.00' '$260.00' '$36.00'\n",
      " '$244.00' '$525.00' '$750.00' '$415.00' '$162.00' '$256.00' '$182.00'\n",
      " '$212.00' '$360.00' '$198.00' '$673.00' '$204.00' '$152.00' '$420.00'\n",
      " '$71.00' '$252.00' '$1,000.00' '$33.00' '$498.00' '$217.00' '$207.00'\n",
      " '$228.00' '$950.00' '$102.00' '$27.00' '$146.00' '$545.00' '$22.00'\n",
      " '$31.00' '$449.00' '$232.00' '$154.00' '$359.00']\n",
      "extra_people \t 45 \t object \t ['$5.00' '$0.00' '$25.00' '$15.00' '$30.00' '$10.00' '$20.00' '$50.00'\n",
      " '$60.00' '$75.00' '$100.00' '$35.00' '$40.00' '$45.00' '$7.00' '$14.00'\n",
      " '$55.00' '$18.00' '$29.00' '$12.00' '$19.00' '$8.00' '$21.00' '$26.00'\n",
      " '$17.00' '$44.00' '$9.00' '$80.00' '$200.00' '$28.00' '$85.00' '$250.00'\n",
      " '$13.00' '$16.00' '$300.00' '$33.00' '$49.00' '$22.00' '$27.00' '$68.00'\n",
      " '$71.00' '$48.00' '$6.00' '$36.00' '$175.00']\n",
      "instant_bookable \t 2 \t object \t ['f' 't']\n",
      "cancellation_policy \t 3 \t object \t ['moderate' 'strict' 'flexible']\n",
      "require_guest_profile_picture \t 2 \t object \t ['f' 't']\n",
      "require_guest_phone_verification \t 2 \t object \t ['f' 't']\n"
     ]
    }
   ],
   "source": [
    "numeric_columns = []\n",
    "for column in listings_df.columns:\n",
    "    if np.issubdtype(listings_df[column].dtype, np.number):\n",
    "        numeric_columns.append(column)\n",
    "    else:\n",
    "        print(column, '\\t', listings_df[column].nunique(), '\\t', listings_df[column].dtype, '\\t', listings_df[column].unique())\n"
   ]
  },
  {
   "cell_type": "code",
   "execution_count": 8,
   "metadata": {},
   "outputs": [
    {
     "name": "stdout",
     "output_type": "stream",
     "text": [
      "['host_total_listings_count', 'latitude', 'longitude', 'accommodates', 'bathrooms', 'bedrooms', 'beds', 'guests_included', 'minimum_nights', 'maximum_nights', 'number_of_reviews', 'review_scores_rating', 'review_scores_accuracy', 'review_scores_cleanliness', 'review_scores_checkin', 'review_scores_communication', 'review_scores_location', 'review_scores_value', 'reviews_per_month']\n"
     ]
    }
   ],
   "source": [
    "print(numeric_columns)"
   ]
  },
  {
   "cell_type": "code",
   "execution_count": 9,
   "metadata": {},
   "outputs": [
    {
     "name": "stderr",
     "output_type": "stream",
     "text": [
      "C:\\Users\\Rehan.Ahmar\\AppData\\Local\\Continuum\\Anaconda3\\lib\\site-packages\\ipykernel_launcher.py:4: SettingWithCopyWarning: \n",
      "A value is trying to be set on a copy of a slice from a DataFrame.\n",
      "Try using .loc[row_indexer,col_indexer] = value instead\n",
      "\n",
      "See the caveats in the documentation: http://pandas.pydata.org/pandas-docs/stable/indexing.html#indexing-view-versus-copy\n",
      "  after removing the cwd from sys.path.\n",
      "C:\\Users\\Rehan.Ahmar\\AppData\\Local\\Continuum\\Anaconda3\\lib\\site-packages\\ipykernel_launcher.py:10: SettingWithCopyWarning: \n",
      "A value is trying to be set on a copy of a slice from a DataFrame.\n",
      "Try using .loc[row_indexer,col_indexer] = value instead\n",
      "\n",
      "See the caveats in the documentation: http://pandas.pydata.org/pandas-docs/stable/indexing.html#indexing-view-versus-copy\n",
      "  # Remove the CWD from sys.path while we load stuff.\n"
     ]
    }
   ],
   "source": [
    "# Convert currency columns to numeric\n",
    "currency_columns = ['price', 'extra_people']\n",
    "for col in currency_columns:\n",
    "    listings_df[col] =  pd.to_numeric(listings_df[col].str.replace('[\\$,]', '', regex=True))\n",
    "    #listings_df[col] = listings_df[col].str.replace('[\\$,]', '', regex=True).astype(float)\n",
    "\n",
    "# Convert percentage columns to numeric\n",
    "percentage_columns = ['host_response_rate', 'host_acceptance_rate']\n",
    "for col in percentage_columns:\n",
    "    listings_df[col] = pd.to_numeric(listings_df[col].str.replace('%',''))"
   ]
  },
  {
   "cell_type": "code",
   "execution_count": 10,
   "metadata": {},
   "outputs": [
    {
     "name": "stdout",
     "output_type": "stream",
     "text": [
      "['host_acceptance_rate']\n",
      "['host_is_superhost', 'host_has_profile_pic', 'host_identity_verified', 'is_location_exact', 'instant_bookable', 'require_guest_profile_picture', 'require_guest_phone_verification']\n",
      "['host_response_time', 'neighbourhood_group_cleansed', 'property_type', 'room_type', 'bed_type', 'amenities', 'cancellation_policy']\n"
     ]
    }
   ],
   "source": [
    "numeric_binary = [x for x in listings_df.columns if (listings_df[x].nunique()==2 and np.issubdtype(listings_df[x].dtype, np.number))]\n",
    "non_numeric_binary = [x for x in listings_df.columns if (listings_df[x].nunique()==2 and not np.issubdtype(listings_df[x].dtype, np.number))]\n",
    "multilevel = [x for x in  listings_df.columns if (listings_df[x].nunique() > 2 and not np.issubdtype(listings_df[x].dtype, np.number))]\n",
    "print(numeric_binary)\n",
    "print(non_numeric_binary)\n",
    "print(multilevel)"
   ]
  },
  {
   "cell_type": "code",
   "execution_count": 11,
   "metadata": {},
   "outputs": [
    {
     "name": "stderr",
     "output_type": "stream",
     "text": [
      "C:\\Users\\Rehan.Ahmar\\AppData\\Local\\Continuum\\Anaconda3\\lib\\site-packages\\ipykernel_launcher.py:3: SettingWithCopyWarning: \n",
      "A value is trying to be set on a copy of a slice from a DataFrame.\n",
      "Try using .loc[row_indexer,col_indexer] = value instead\n",
      "\n",
      "See the caveats in the documentation: http://pandas.pydata.org/pandas-docs/stable/indexing.html#indexing-view-versus-copy\n",
      "  This is separate from the ipykernel package so we can avoid doing imports until\n"
     ]
    }
   ],
   "source": [
    "# Convert non-numeric binary categoricals to numeric binary categoricals\n",
    "for col in non_numeric_binary:\n",
    "    listings_df[col] = listings_df[col].apply(lambda x: 1 if x=='t' else 0)"
   ]
  },
  {
   "cell_type": "code",
   "execution_count": 12,
   "metadata": {},
   "outputs": [
    {
     "name": "stdout",
     "output_type": "stream",
     "text": [
      "{TV,\"Cable TV\",Internet,\"Wireless Internet\",\"Air Conditioning\",Kitchen,Heating,\"Family/Kid Friendly\",Washer,Dryer}\n",
      "TV,Cable TV,Internet,Wireless Internet,Air Conditioning,Kitchen,Heating,Family/Kid Friendly,Washer,Dryer\n"
     ]
    },
    {
     "name": "stderr",
     "output_type": "stream",
     "text": [
      "C:\\Users\\Rehan.Ahmar\\AppData\\Local\\Continuum\\Anaconda3\\lib\\site-packages\\ipykernel_launcher.py:3: SettingWithCopyWarning: \n",
      "A value is trying to be set on a copy of a slice from a DataFrame.\n",
      "Try using .loc[row_indexer,col_indexer] = value instead\n",
      "\n",
      "See the caveats in the documentation: http://pandas.pydata.org/pandas-docs/stable/indexing.html#indexing-view-versus-copy\n",
      "  This is separate from the ipykernel package so we can avoid doing imports until\n"
     ]
    },
    {
     "data": {
      "text/html": [
       "<div>\n",
       "<style scoped>\n",
       "    .dataframe tbody tr th:only-of-type {\n",
       "        vertical-align: middle;\n",
       "    }\n",
       "\n",
       "    .dataframe tbody tr th {\n",
       "        vertical-align: top;\n",
       "    }\n",
       "\n",
       "    .dataframe thead th {\n",
       "        text-align: right;\n",
       "    }\n",
       "</style>\n",
       "<table border=\"1\" class=\"dataframe\">\n",
       "  <thead>\n",
       "    <tr style=\"text-align: right;\">\n",
       "      <th></th>\n",
       "      <th>24-Hour Check-in</th>\n",
       "      <th>Air Conditioning</th>\n",
       "      <th>Breakfast</th>\n",
       "      <th>Buzzer/Wireless Intercom</th>\n",
       "      <th>Cable TV</th>\n",
       "      <th>Carbon Monoxide Detector</th>\n",
       "      <th>Cat(s)</th>\n",
       "      <th>Dog(s)</th>\n",
       "      <th>Doorman</th>\n",
       "      <th>Dryer</th>\n",
       "      <th>...</th>\n",
       "      <th>Safety Card</th>\n",
       "      <th>Shampoo</th>\n",
       "      <th>Smoke Detector</th>\n",
       "      <th>Smoking Allowed</th>\n",
       "      <th>Suitable for Events</th>\n",
       "      <th>TV</th>\n",
       "      <th>Washer</th>\n",
       "      <th>Washer / Dryer</th>\n",
       "      <th>Wheelchair Accessible</th>\n",
       "      <th>Wireless Internet</th>\n",
       "    </tr>\n",
       "  </thead>\n",
       "  <tbody>\n",
       "    <tr>\n",
       "      <th>0</th>\n",
       "      <td>0</td>\n",
       "      <td>1</td>\n",
       "      <td>0</td>\n",
       "      <td>0</td>\n",
       "      <td>1</td>\n",
       "      <td>0</td>\n",
       "      <td>0</td>\n",
       "      <td>0</td>\n",
       "      <td>0</td>\n",
       "      <td>1</td>\n",
       "      <td>...</td>\n",
       "      <td>0</td>\n",
       "      <td>0</td>\n",
       "      <td>0</td>\n",
       "      <td>0</td>\n",
       "      <td>0</td>\n",
       "      <td>1</td>\n",
       "      <td>1</td>\n",
       "      <td>0</td>\n",
       "      <td>0</td>\n",
       "      <td>1</td>\n",
       "    </tr>\n",
       "    <tr>\n",
       "      <th>1</th>\n",
       "      <td>0</td>\n",
       "      <td>0</td>\n",
       "      <td>0</td>\n",
       "      <td>1</td>\n",
       "      <td>0</td>\n",
       "      <td>1</td>\n",
       "      <td>0</td>\n",
       "      <td>0</td>\n",
       "      <td>0</td>\n",
       "      <td>1</td>\n",
       "      <td>...</td>\n",
       "      <td>1</td>\n",
       "      <td>0</td>\n",
       "      <td>1</td>\n",
       "      <td>0</td>\n",
       "      <td>0</td>\n",
       "      <td>1</td>\n",
       "      <td>1</td>\n",
       "      <td>0</td>\n",
       "      <td>0</td>\n",
       "      <td>1</td>\n",
       "    </tr>\n",
       "    <tr>\n",
       "      <th>2</th>\n",
       "      <td>0</td>\n",
       "      <td>1</td>\n",
       "      <td>0</td>\n",
       "      <td>0</td>\n",
       "      <td>1</td>\n",
       "      <td>1</td>\n",
       "      <td>1</td>\n",
       "      <td>1</td>\n",
       "      <td>0</td>\n",
       "      <td>1</td>\n",
       "      <td>...</td>\n",
       "      <td>0</td>\n",
       "      <td>1</td>\n",
       "      <td>1</td>\n",
       "      <td>0</td>\n",
       "      <td>0</td>\n",
       "      <td>1</td>\n",
       "      <td>1</td>\n",
       "      <td>0</td>\n",
       "      <td>0</td>\n",
       "      <td>1</td>\n",
       "    </tr>\n",
       "    <tr>\n",
       "      <th>3</th>\n",
       "      <td>0</td>\n",
       "      <td>0</td>\n",
       "      <td>0</td>\n",
       "      <td>0</td>\n",
       "      <td>0</td>\n",
       "      <td>1</td>\n",
       "      <td>0</td>\n",
       "      <td>0</td>\n",
       "      <td>0</td>\n",
       "      <td>1</td>\n",
       "      <td>...</td>\n",
       "      <td>1</td>\n",
       "      <td>1</td>\n",
       "      <td>1</td>\n",
       "      <td>0</td>\n",
       "      <td>0</td>\n",
       "      <td>0</td>\n",
       "      <td>1</td>\n",
       "      <td>0</td>\n",
       "      <td>0</td>\n",
       "      <td>1</td>\n",
       "    </tr>\n",
       "    <tr>\n",
       "      <th>4</th>\n",
       "      <td>0</td>\n",
       "      <td>0</td>\n",
       "      <td>0</td>\n",
       "      <td>0</td>\n",
       "      <td>1</td>\n",
       "      <td>1</td>\n",
       "      <td>0</td>\n",
       "      <td>0</td>\n",
       "      <td>0</td>\n",
       "      <td>0</td>\n",
       "      <td>...</td>\n",
       "      <td>0</td>\n",
       "      <td>1</td>\n",
       "      <td>1</td>\n",
       "      <td>0</td>\n",
       "      <td>0</td>\n",
       "      <td>1</td>\n",
       "      <td>0</td>\n",
       "      <td>0</td>\n",
       "      <td>0</td>\n",
       "      <td>1</td>\n",
       "    </tr>\n",
       "  </tbody>\n",
       "</table>\n",
       "<p>5 rows × 41 columns</p>\n",
       "</div>"
      ],
      "text/plain": [
       "   24-Hour Check-in  Air Conditioning  Breakfast  Buzzer/Wireless Intercom  \\\n",
       "0                 0                 1          0                         0   \n",
       "1                 0                 0          0                         1   \n",
       "2                 0                 1          0                         0   \n",
       "3                 0                 0          0                         0   \n",
       "4                 0                 0          0                         0   \n",
       "\n",
       "   Cable TV  Carbon Monoxide Detector  Cat(s)  Dog(s)  Doorman  Dryer  \\\n",
       "0         1                         0       0       0        0      1   \n",
       "1         0                         1       0       0        0      1   \n",
       "2         1                         1       1       1        0      1   \n",
       "3         0                         1       0       0        0      1   \n",
       "4         1                         1       0       0        0      0   \n",
       "\n",
       "         ...          Safety Card  Shampoo  Smoke Detector  Smoking Allowed  \\\n",
       "0        ...                    0        0               0                0   \n",
       "1        ...                    1        0               1                0   \n",
       "2        ...                    0        1               1                0   \n",
       "3        ...                    1        1               1                0   \n",
       "4        ...                    0        1               1                0   \n",
       "\n",
       "   Suitable for Events  TV  Washer  Washer / Dryer  Wheelchair Accessible  \\\n",
       "0                    0   1       1               0                      0   \n",
       "1                    0   1       1               0                      0   \n",
       "2                    0   1       1               0                      0   \n",
       "3                    0   0       1               0                      0   \n",
       "4                    0   1       0               0                      0   \n",
       "\n",
       "   Wireless Internet  \n",
       "0                  1  \n",
       "1                  1  \n",
       "2                  1  \n",
       "3                  1  \n",
       "4                  1  \n",
       "\n",
       "[5 rows x 41 columns]"
      ]
     },
     "execution_count": 12,
     "metadata": {},
     "output_type": "execute_result"
    }
   ],
   "source": [
    "# Process amenities column\n",
    "print(listings_df['amenities'][0])\n",
    "listings_df['amenities'] = listings_df['amenities'].str.replace('[\"{}]', '', regex=True)\n",
    "print(listings_df['amenities'][0])\n",
    "parsed_amenities = listings_df['amenities'].str.get_dummies(sep = \",\")\n",
    "parsed_amenities.head()"
   ]
  },
  {
   "cell_type": "code",
   "execution_count": 13,
   "metadata": {},
   "outputs": [
    {
     "data": {
      "text/plain": [
       "24-Hour Check-in               616\n",
       "Air Conditioning               677\n",
       "Breakfast                      291\n",
       "Buzzer/Wireless Intercom       538\n",
       "Cable TV                      1446\n",
       "Carbon Monoxide Detector      2485\n",
       "Cat(s)                         382\n",
       "Dog(s)                         509\n",
       "Doorman                         85\n",
       "Dryer                         2997\n",
       "Elevator in Building           785\n",
       "Essentials                    3237\n",
       "Family/Kid Friendly           1963\n",
       "Fire Extinguisher             2196\n",
       "First Aid Kit                 1680\n",
       "Free Parking on Premises      2167\n",
       "Gym                            442\n",
       "Hair Dryer                     774\n",
       "Hangers                        846\n",
       "Heating                       3627\n",
       "Hot Tub                        303\n",
       "Indoor Fireplace               886\n",
       "Internet                      2811\n",
       "Iron                           742\n",
       "Kitchen                       3423\n",
       "Laptop Friendly Workspace      745\n",
       "Lock on Bedroom Door           100\n",
       "Other pet(s)                    51\n",
       "Pets Allowed                   472\n",
       "Pets live on this property     883\n",
       "Pool                           159\n",
       "Safety Card                    727\n",
       "Shampoo                       2670\n",
       "Smoke Detector                3281\n",
       "Smoking Allowed                 82\n",
       "Suitable for Events            209\n",
       "TV                            2574\n",
       "Washer                        2992\n",
       "Washer / Dryer                   2\n",
       "Wheelchair Accessible          300\n",
       "Wireless Internet             3667\n",
       "dtype: int64"
      ]
     },
     "execution_count": 13,
     "metadata": {},
     "output_type": "execute_result"
    }
   ],
   "source": [
    "parsed_amenities.sum()"
   ]
  },
  {
   "cell_type": "code",
   "execution_count": 14,
   "metadata": {},
   "outputs": [
    {
     "data": {
      "text/plain": [
       "<matplotlib.axes._subplots.AxesSubplot at 0x3008c4d2b0>"
      ]
     },
     "execution_count": 14,
     "metadata": {},
     "output_type": "execute_result"
    },
    {
     "data": {
      "image/png": "[encoded data removed]",
      "text/plain": [
       "<Figure size 432x288 with 1 Axes>"
      ]
     },
     "metadata": {
      "needs_background": "light"
     },
     "output_type": "display_data"
    }
   ],
   "source": [
    "parsed_amenities.sum().sort_values(ascending=False).plot(kind='bar')"
   ]
  },
  {
   "cell_type": "code",
   "execution_count": 15,
   "metadata": {},
   "outputs": [
    {
     "data": {
      "text/html": [
       "<div>\n",
       "<style scoped>\n",
       "    .dataframe tbody tr th:only-of-type {\n",
       "        vertical-align: middle;\n",
       "    }\n",
       "\n",
       "    .dataframe tbody tr th {\n",
       "        vertical-align: top;\n",
       "    }\n",
       "\n",
       "    .dataframe thead th {\n",
       "        text-align: right;\n",
       "    }\n",
       "</style>\n",
       "<table border=\"1\" class=\"dataframe\">\n",
       "  <thead>\n",
       "    <tr style=\"text-align: right;\">\n",
       "      <th></th>\n",
       "      <th>Washer / Dryer</th>\n",
       "      <th>Washer</th>\n",
       "    </tr>\n",
       "  </thead>\n",
       "  <tbody>\n",
       "    <tr>\n",
       "      <th>2376</th>\n",
       "      <td>1</td>\n",
       "      <td>1</td>\n",
       "    </tr>\n",
       "    <tr>\n",
       "      <th>3006</th>\n",
       "      <td>1</td>\n",
       "      <td>1</td>\n",
       "    </tr>\n",
       "  </tbody>\n",
       "</table>\n",
       "</div>"
      ],
      "text/plain": [
       "      Washer / Dryer  Washer\n",
       "2376               1       1\n",
       "3006               1       1"
      ]
     },
     "execution_count": 15,
     "metadata": {},
     "output_type": "execute_result"
    }
   ],
   "source": [
    "parsed_amenities[parsed_amenities['Washer / Dryer'] == 1][['Washer / Dryer', 'Washer']]"
   ]
  },
  {
   "cell_type": "markdown",
   "metadata": {},
   "source": [
    "Washer/Dryer is present in only 2 listings. So, we can drop this feature. Washer field is already 1 in these 2 rows.\n",
    "\n",
    "The fields Cable TV and TV seem to convey the same thing. So we can merge these 2 columns.\n",
    "Same is the case for the fields Internet and Wireless Internet. We can merge these 2 also."
   ]
  },
  {
   "cell_type": "code",
   "execution_count": 16,
   "metadata": {},
   "outputs": [],
   "source": [
    "# Drop amenity Washer / Dryer\n",
    "parsed_amenities.drop(['Washer / Dryer'], axis=1, inplace=True)\n",
    "# Merge TV and Cable TV, and drop Cable TV\n",
    "parsed_amenities['TV'] = (parsed_amenities['TV'] | parsed_amenities['Cable TV']).astype(int)\n",
    "parsed_amenities['Wireless Internet'] = (parsed_amenities['Wireless Internet'] | parsed_amenities['Internet']).astype(int)\n",
    "parsed_amenities.drop(['Cable TV', 'Internet'], axis=1, inplace=True)"
   ]
  },
  {
   "cell_type": "code",
   "execution_count": 17,
   "metadata": {},
   "outputs": [
    {
     "name": "stdout",
     "output_type": "stream",
     "text": [
      "(3818, 37)\n",
      "(3818, 75)\n"
     ]
    }
   ],
   "source": [
    "print(listings_df.shape)\n",
    "merged_df = pd.merge(listings_df, parsed_amenities, left_index=True, right_index=True)\n",
    "print(merged_df.shape)"
   ]
  },
  {
   "cell_type": "code",
   "execution_count": 18,
   "metadata": {},
   "outputs": [],
   "source": [
    "# Remove amenities column\n",
    "merged_df.drop(['amenities'], axis=1, inplace = True)\n",
    "multilevel.remove('amenities')"
   ]
  },
  {
   "cell_type": "code",
   "execution_count": 19,
   "metadata": {},
   "outputs": [
    {
     "name": "stdout",
     "output_type": "stream",
     "text": [
      "(3818, 116)\n"
     ]
    },
    {
     "data": {
      "text/html": [
       "<div>\n",
       "<style scoped>\n",
       "    .dataframe tbody tr th:only-of-type {\n",
       "        vertical-align: middle;\n",
       "    }\n",
       "\n",
       "    .dataframe tbody tr th {\n",
       "        vertical-align: top;\n",
       "    }\n",
       "\n",
       "    .dataframe thead th {\n",
       "        text-align: right;\n",
       "    }\n",
       "</style>\n",
       "<table border=\"1\" class=\"dataframe\">\n",
       "  <thead>\n",
       "    <tr style=\"text-align: right;\">\n",
       "      <th></th>\n",
       "      <th>host_response_rate</th>\n",
       "      <th>host_acceptance_rate</th>\n",
       "      <th>host_is_superhost</th>\n",
       "      <th>host_total_listings_count</th>\n",
       "      <th>host_has_profile_pic</th>\n",
       "      <th>host_identity_verified</th>\n",
       "      <th>latitude</th>\n",
       "      <th>longitude</th>\n",
       "      <th>is_location_exact</th>\n",
       "      <th>accommodates</th>\n",
       "      <th>...</th>\n",
       "      <th>room_type_Private room</th>\n",
       "      <th>room_type_Shared room</th>\n",
       "      <th>bed_type_Airbed</th>\n",
       "      <th>bed_type_Couch</th>\n",
       "      <th>bed_type_Futon</th>\n",
       "      <th>bed_type_Pull-out Sofa</th>\n",
       "      <th>bed_type_Real Bed</th>\n",
       "      <th>cancellation_policy_flexible</th>\n",
       "      <th>cancellation_policy_moderate</th>\n",
       "      <th>cancellation_policy_strict</th>\n",
       "    </tr>\n",
       "  </thead>\n",
       "  <tbody>\n",
       "    <tr>\n",
       "      <th>0</th>\n",
       "      <td>96.0</td>\n",
       "      <td>100.0</td>\n",
       "      <td>0</td>\n",
       "      <td>3.0</td>\n",
       "      <td>1</td>\n",
       "      <td>1</td>\n",
       "      <td>47.636289</td>\n",
       "      <td>-122.371025</td>\n",
       "      <td>1</td>\n",
       "      <td>4</td>\n",
       "      <td>...</td>\n",
       "      <td>0</td>\n",
       "      <td>0</td>\n",
       "      <td>0</td>\n",
       "      <td>0</td>\n",
       "      <td>0</td>\n",
       "      <td>0</td>\n",
       "      <td>1</td>\n",
       "      <td>0</td>\n",
       "      <td>1</td>\n",
       "      <td>0</td>\n",
       "    </tr>\n",
       "    <tr>\n",
       "      <th>1</th>\n",
       "      <td>98.0</td>\n",
       "      <td>100.0</td>\n",
       "      <td>1</td>\n",
       "      <td>6.0</td>\n",
       "      <td>1</td>\n",
       "      <td>1</td>\n",
       "      <td>47.639123</td>\n",
       "      <td>-122.365666</td>\n",
       "      <td>1</td>\n",
       "      <td>4</td>\n",
       "      <td>...</td>\n",
       "      <td>0</td>\n",
       "      <td>0</td>\n",
       "      <td>0</td>\n",
       "      <td>0</td>\n",
       "      <td>0</td>\n",
       "      <td>0</td>\n",
       "      <td>1</td>\n",
       "      <td>0</td>\n",
       "      <td>0</td>\n",
       "      <td>1</td>\n",
       "    </tr>\n",
       "    <tr>\n",
       "      <th>2</th>\n",
       "      <td>67.0</td>\n",
       "      <td>100.0</td>\n",
       "      <td>0</td>\n",
       "      <td>2.0</td>\n",
       "      <td>1</td>\n",
       "      <td>1</td>\n",
       "      <td>47.629724</td>\n",
       "      <td>-122.369483</td>\n",
       "      <td>1</td>\n",
       "      <td>11</td>\n",
       "      <td>...</td>\n",
       "      <td>0</td>\n",
       "      <td>0</td>\n",
       "      <td>0</td>\n",
       "      <td>0</td>\n",
       "      <td>0</td>\n",
       "      <td>0</td>\n",
       "      <td>1</td>\n",
       "      <td>0</td>\n",
       "      <td>0</td>\n",
       "      <td>1</td>\n",
       "    </tr>\n",
       "    <tr>\n",
       "      <th>3</th>\n",
       "      <td>NaN</td>\n",
       "      <td>NaN</td>\n",
       "      <td>0</td>\n",
       "      <td>1.0</td>\n",
       "      <td>1</td>\n",
       "      <td>1</td>\n",
       "      <td>47.638473</td>\n",
       "      <td>-122.369279</td>\n",
       "      <td>1</td>\n",
       "      <td>3</td>\n",
       "      <td>...</td>\n",
       "      <td>0</td>\n",
       "      <td>0</td>\n",
       "      <td>0</td>\n",
       "      <td>0</td>\n",
       "      <td>0</td>\n",
       "      <td>0</td>\n",
       "      <td>1</td>\n",
       "      <td>1</td>\n",
       "      <td>0</td>\n",
       "      <td>0</td>\n",
       "    </tr>\n",
       "    <tr>\n",
       "      <th>4</th>\n",
       "      <td>100.0</td>\n",
       "      <td>NaN</td>\n",
       "      <td>0</td>\n",
       "      <td>2.0</td>\n",
       "      <td>1</td>\n",
       "      <td>1</td>\n",
       "      <td>47.632918</td>\n",
       "      <td>-122.372471</td>\n",
       "      <td>1</td>\n",
       "      <td>6</td>\n",
       "      <td>...</td>\n",
       "      <td>0</td>\n",
       "      <td>0</td>\n",
       "      <td>0</td>\n",
       "      <td>0</td>\n",
       "      <td>0</td>\n",
       "      <td>0</td>\n",
       "      <td>1</td>\n",
       "      <td>0</td>\n",
       "      <td>0</td>\n",
       "      <td>1</td>\n",
       "    </tr>\n",
       "  </tbody>\n",
       "</table>\n",
       "<p>5 rows × 116 columns</p>\n",
       "</div>"
      ],
      "text/plain": [
       "   host_response_rate  host_acceptance_rate  host_is_superhost  \\\n",
       "0                96.0                 100.0                  0   \n",
       "1                98.0                 100.0                  1   \n",
       "2                67.0                 100.0                  0   \n",
       "3                 NaN                   NaN                  0   \n",
       "4               100.0                   NaN                  0   \n",
       "\n",
       "   host_total_listings_count  host_has_profile_pic  host_identity_verified  \\\n",
       "0                        3.0                     1                       1   \n",
       "1                        6.0                     1                       1   \n",
       "2                        2.0                     1                       1   \n",
       "3                        1.0                     1                       1   \n",
       "4                        2.0                     1                       1   \n",
       "\n",
       "    latitude   longitude  is_location_exact  accommodates  \\\n",
       "0  47.636289 -122.371025                  1             4   \n",
       "1  47.639123 -122.365666                  1             4   \n",
       "2  47.629724 -122.369483                  1            11   \n",
       "3  47.638473 -122.369279                  1             3   \n",
       "4  47.632918 -122.372471                  1             6   \n",
       "\n",
       "              ...              room_type_Private room  room_type_Shared room  \\\n",
       "0             ...                                   0                      0   \n",
       "1             ...                                   0                      0   \n",
       "2             ...                                   0                      0   \n",
       "3             ...                                   0                      0   \n",
       "4             ...                                   0                      0   \n",
       "\n",
       "   bed_type_Airbed  bed_type_Couch  bed_type_Futon  bed_type_Pull-out Sofa  \\\n",
       "0                0               0               0                       0   \n",
       "1                0               0               0                       0   \n",
       "2                0               0               0                       0   \n",
       "3                0               0               0                       0   \n",
       "4                0               0               0                       0   \n",
       "\n",
       "   bed_type_Real Bed  cancellation_policy_flexible  \\\n",
       "0                  1                             0   \n",
       "1                  1                             0   \n",
       "2                  1                             0   \n",
       "3                  1                             1   \n",
       "4                  1                             0   \n",
       "\n",
       "   cancellation_policy_moderate  cancellation_policy_strict  \n",
       "0                             1                           0  \n",
       "1                             0                           1  \n",
       "2                             0                           1  \n",
       "3                             0                           0  \n",
       "4                             0                           1  \n",
       "\n",
       "[5 rows x 116 columns]"
      ]
     },
     "execution_count": 19,
     "metadata": {},
     "output_type": "execute_result"
    }
   ],
   "source": [
    "# One-hot encode remaining categoricals\n",
    "final_df = pd.get_dummies(data=merged_df, columns=multilevel)\n",
    "print(final_df.shape)\n",
    "final_df.head()"
   ]
  },
  {
   "cell_type": "code",
   "execution_count": 20,
   "metadata": {},
   "outputs": [
    {
     "data": {
      "text/plain": [
       "['host_response_rate',\n",
       " 'host_acceptance_rate',\n",
       " 'host_is_superhost',\n",
       " 'host_total_listings_count',\n",
       " 'host_has_profile_pic',\n",
       " 'host_identity_verified',\n",
       " 'latitude',\n",
       " 'longitude',\n",
       " 'is_location_exact',\n",
       " 'accommodates',\n",
       " 'bathrooms',\n",
       " 'bedrooms',\n",
       " 'beds',\n",
       " 'price',\n",
       " 'guests_included',\n",
       " 'extra_people',\n",
       " 'minimum_nights',\n",
       " 'maximum_nights',\n",
       " 'number_of_reviews',\n",
       " 'review_scores_rating',\n",
       " 'review_scores_accuracy',\n",
       " 'review_scores_cleanliness',\n",
       " 'review_scores_checkin',\n",
       " 'review_scores_communication',\n",
       " 'review_scores_location',\n",
       " 'review_scores_value',\n",
       " 'instant_bookable',\n",
       " 'require_guest_profile_picture',\n",
       " 'require_guest_phone_verification',\n",
       " 'reviews_per_month',\n",
       " '24-Hour Check-in',\n",
       " 'Air Conditioning',\n",
       " 'Breakfast',\n",
       " 'Buzzer/Wireless Intercom',\n",
       " 'Carbon Monoxide Detector',\n",
       " 'Cat(s)',\n",
       " 'Dog(s)',\n",
       " 'Doorman',\n",
       " 'Dryer',\n",
       " 'Elevator in Building',\n",
       " 'Essentials',\n",
       " 'Family/Kid Friendly',\n",
       " 'Fire Extinguisher',\n",
       " 'First Aid Kit',\n",
       " 'Free Parking on Premises',\n",
       " 'Gym',\n",
       " 'Hair Dryer',\n",
       " 'Hangers',\n",
       " 'Heating',\n",
       " 'Hot Tub',\n",
       " 'Indoor Fireplace',\n",
       " 'Iron',\n",
       " 'Kitchen',\n",
       " 'Laptop Friendly Workspace',\n",
       " 'Lock on Bedroom Door',\n",
       " 'Other pet(s)',\n",
       " 'Pets Allowed',\n",
       " 'Pets live on this property',\n",
       " 'Pool',\n",
       " 'Safety Card',\n",
       " 'Shampoo',\n",
       " 'Smoke Detector',\n",
       " 'Smoking Allowed',\n",
       " 'Suitable for Events',\n",
       " 'TV',\n",
       " 'Washer',\n",
       " 'Wheelchair Accessible',\n",
       " 'Wireless Internet',\n",
       " 'host_response_time_a few days or more',\n",
       " 'host_response_time_within a day',\n",
       " 'host_response_time_within a few hours',\n",
       " 'host_response_time_within an hour',\n",
       " 'neighbourhood_group_cleansed_Ballard',\n",
       " 'neighbourhood_group_cleansed_Beacon Hill',\n",
       " 'neighbourhood_group_cleansed_Capitol Hill',\n",
       " 'neighbourhood_group_cleansed_Cascade',\n",
       " 'neighbourhood_group_cleansed_Central Area',\n",
       " 'neighbourhood_group_cleansed_Delridge',\n",
       " 'neighbourhood_group_cleansed_Downtown',\n",
       " 'neighbourhood_group_cleansed_Interbay',\n",
       " 'neighbourhood_group_cleansed_Lake City',\n",
       " 'neighbourhood_group_cleansed_Magnolia',\n",
       " 'neighbourhood_group_cleansed_Northgate',\n",
       " 'neighbourhood_group_cleansed_Other neighborhoods',\n",
       " 'neighbourhood_group_cleansed_Queen Anne',\n",
       " 'neighbourhood_group_cleansed_Rainier Valley',\n",
       " 'neighbourhood_group_cleansed_Seward Park',\n",
       " 'neighbourhood_group_cleansed_University District',\n",
       " 'neighbourhood_group_cleansed_West Seattle',\n",
       " 'property_type_Apartment',\n",
       " 'property_type_Bed & Breakfast',\n",
       " 'property_type_Boat',\n",
       " 'property_type_Bungalow',\n",
       " 'property_type_Cabin',\n",
       " 'property_type_Camper/RV',\n",
       " 'property_type_Chalet',\n",
       " 'property_type_Condominium',\n",
       " 'property_type_Dorm',\n",
       " 'property_type_House',\n",
       " 'property_type_Loft',\n",
       " 'property_type_Other',\n",
       " 'property_type_Tent',\n",
       " 'property_type_Townhouse',\n",
       " 'property_type_Treehouse',\n",
       " 'property_type_Yurt',\n",
       " 'room_type_Entire home/apt',\n",
       " 'room_type_Private room',\n",
       " 'room_type_Shared room',\n",
       " 'bed_type_Airbed',\n",
       " 'bed_type_Couch',\n",
       " 'bed_type_Futon',\n",
       " 'bed_type_Pull-out Sofa',\n",
       " 'bed_type_Real Bed',\n",
       " 'cancellation_policy_flexible',\n",
       " 'cancellation_policy_moderate',\n",
       " 'cancellation_policy_strict']"
      ]
     },
     "execution_count": 20,
     "metadata": {},
     "output_type": "execute_result"
    }
   ],
   "source": [
    "list(final_df.columns)"
   ]
  },
  {
   "cell_type": "code",
   "execution_count": 21,
   "metadata": {},
   "outputs": [
    {
     "name": "stdout",
     "output_type": "stream",
     "text": [
      "Index(['host_response_rate', 'host_acceptance_rate',\n",
      "       'host_total_listings_count', 'bathrooms', 'bedrooms', 'beds',\n",
      "       'review_scores_rating', 'review_scores_accuracy',\n",
      "       'review_scores_cleanliness', 'review_scores_checkin',\n",
      "       'review_scores_communication', 'review_scores_location',\n",
      "       'review_scores_value', 'reviews_per_month'],\n",
      "      dtype='object')\n",
      "host_response_rate \t 45 \t float64 \t [ 96.  98.  67.  nan 100.  71.  97.  60.  50.  31.  90.  70.  88.  80.\n",
      "  63.  33.  99.  75.  83.  94.  58.  43.  93.  92.  40.  57.  89.  95.\n",
      "  78.  81.  91.  38.  86.  30.  56.  76.  64.  82.  17.  87.  25.  69.\n",
      "  53.  65.  68.  55.]\n",
      "host_acceptance_rate \t 2 \t float64 \t [100.  nan   0.]\n",
      "host_total_listings_count \t 27 \t float64 \t [  3.   6.   2.   1.   5.   9.   4.  36. 354.   8.  37.   7.  34.  10.\n",
      "  13.  21.  11. 169.  48. 502.  12.  nan  18.  19.  15.  84. 163.  17.]\n",
      "bathrooms \t 12 \t float64 \t [1.  4.5 2.  3.5 1.5 2.5 3.  0.5 4.  0.  8.  nan 5. ]\n",
      "bedrooms \t 8 \t float64 \t [ 1.  5.  0.  3.  2.  6.  4. nan  7.]\n",
      "beds \t 11 \t float64 \t [ 1.  7.  2.  3. 15.  5.  4.  6.  9.  8. nan 10.]\n",
      "review_scores_rating \t 42 \t float64 \t [ 95.  96.  97.  nan  92.  99.  98. 100.  80.  85.  84.  88.  75.  90.\n",
      "  91.  94.  93.  77.  89.  71.  82.  87.  73.  83.  86.  76.  78.  66.\n",
      "  74.  60.  64.  70.  68.  72.  40.  79.  55.  20.  67.  57.  65.  53.\n",
      "  81.]\n",
      "review_scores_accuracy \t 7 \t float64 \t [10. nan  9.  8.  6.  7.  4.  2.]\n",
      "review_scores_cleanliness \t 8 \t float64 \t [10. nan  9.  8.  7.  6.  5.  4.  3.]\n",
      "review_scores_checkin \t 8 \t float64 \t [10. nan  9.  8.  7.  4.  6.  5.  2.]\n",
      "review_scores_communication \t 8 \t float64 \t [10. nan  9.  8.  6.  4.  7.  2.  5.]\n",
      "review_scores_location \t 6 \t float64 \t [ 9. 10. nan  8.  7.  4.  6.]\n",
      "review_scores_value \t 8 \t float64 \t [10. nan  9.  8.  7.  6.  4.  2.  5.]\n",
      "reviews_per_month \t 654 \t float64 \t [ 4.07  1.48  1.15   nan  0.89  2.45  2.46  4.73  1.22  1.55  3.33  0.98\n",
      "  0.92  3.    2.65  0.73  4.55  4.58  0.82  1.    0.71  0.86  0.18  1.3\n",
      "  4.38  2.47  0.33  1.86  2.18  1.31  0.99  2.27  4.35  0.97  0.9   0.83\n",
      "  1.98  4.7   0.46  1.38  3.35  1.99  2.29  1.06  0.16  0.8   2.    0.64\n",
      "  5.64  2.5   4.12  0.25  5.24  7.06  4.96  1.82  3.94  1.01  3.29  3.07\n",
      "  1.44  3.46  4.43  3.85  0.38  3.75  7.84  2.11  0.26  0.3   6.07  1.75\n",
      "  3.64  0.11  4.05  0.62  6.87  0.77  0.09  3.39  1.84  3.95  1.89  1.37\n",
      "  3.87  3.38  0.65  0.96  7.53  5.87  1.91  2.05  6.23  3.11  3.55  2.22\n",
      "  1.68  0.34  0.2   4.67  5.32  5.79  0.68  2.56  2.61  7.2   0.22  1.65\n",
      "  0.61  0.85  3.96  2.82  2.87  3.86  1.21  1.25  4.28  5.15  2.59  2.85\n",
      "  4.29  4.89  4.51  3.4   0.47  5.22  5.02  1.58 12.15  0.95  4.79  2.14\n",
      "  0.28  3.31  3.57  1.24  2.7   3.3   5.63  0.29  9.14  1.04  2.52  5.92\n",
      "  3.15  4.59  0.32  5.    0.03  0.31  0.6   2.88  3.08  7.18  0.54  0.35\n",
      "  0.21  1.41  3.48  0.5   2.92  0.1   1.93  5.91  0.59  2.67  1.71  2.57\n",
      "  2.41  3.82  0.63  4.68  0.53  2.66  5.81  3.45  1.02  2.76  1.7   0.14\n",
      "  1.07  0.37  1.57  1.53  1.67  0.24  6.39  4.19  1.46  4.88  1.42  6.82\n",
      "  4.37  0.51  2.78  3.18  0.81  2.86  2.3   1.88  0.67  2.09  1.97  5.71\n",
      "  3.6   0.87  1.39  0.23  0.69  1.49  1.83  3.16  1.35  0.13  5.38  1.79\n",
      "  1.85  1.17  2.75  0.94  0.39  4.31  2.38  3.01  2.77  1.32  4.06  0.79\n",
      "  1.29  0.27  2.25  4.23  1.73  1.51  0.88  0.41  6.57  0.19  0.66  0.36\n",
      "  0.43  4.56  5.27  3.98  3.72  4.18  1.76  1.69  4.52  2.16  1.12  2.63\n",
      "  0.58  3.43  0.72  5.88  2.74  0.7   1.54  1.61  0.44  2.23  2.64  0.04\n",
      "  3.54  2.89  0.07  3.17  4.26  7.5   2.07  6.1   2.54  5.98  1.92  1.13\n",
      "  2.34  1.36  1.18  3.02  2.48  1.62  5.62  2.51  2.06  7.02  0.12  4.36\n",
      "  4.57  0.45  3.25  1.74  0.4   7.63  0.57  4.39  1.4   1.72  3.91  4.97\n",
      "  2.9   1.94  2.19  6.43  1.64  1.6   1.1   4.11  6.22  1.28  3.58  4.63\n",
      "  0.48  2.6   5.35  2.21  0.15  5.08  2.81  3.24  2.04  4.    1.34  2.24\n",
      "  3.22  6.9   5.53  5.42  5.07  5.26  2.69  2.4   2.94  1.5   3.28  3.56\n",
      "  0.42  4.45  4.74  3.1   3.88  3.44  0.52  5.8   3.63  0.74  1.23  2.35\n",
      "  0.91  1.11  6.92  3.77  8.31  4.27  7.57  3.19  3.62  0.75  2.53  3.7\n",
      "  2.33  3.13  1.14  7.    0.84  3.61  3.83  2.31  4.17  4.92  2.17  8.73\n",
      "  1.8   2.13  4.83  2.62  9.34  4.66  3.21  0.78  2.28  2.39  2.42  2.15\n",
      "  1.05  5.68  1.09  3.37  3.2   1.27  1.56  5.04  3.12  2.83  3.41  1.63\n",
      "  2.36  3.09  5.41  5.34  5.19  3.03  3.74  4.21  4.46  2.95  4.22  2.79\n",
      "  1.26  8.55  0.93  6.35  4.9   7.75  2.99  0.56  6.32  6.    4.4   2.71\n",
      "  7.78  2.73 11.01  7.32  5.43  4.85  4.72  3.81  1.19  1.66  3.52  0.17\n",
      "  4.71  2.01  2.68  5.99  2.37  4.24  1.33  0.49  2.08  2.8   2.93  6.16\n",
      "  4.02  3.79  6.59  0.76  4.15  3.53  6.94  4.82  3.89  0.55  1.96  3.51\n",
      "  9.47  1.81  3.65  7.79  9.08  1.9   4.34  1.77  5.33  3.42  6.09  7.19\n",
      "  5.84  5.82  4.91  8.67 10.12  3.5   8.05  8.98  8.94  6.53 10.    4.44\n",
      "  2.02  0.06  0.08  0.05  4.95  4.16  4.32  6.68  6.47  8.17  5.29  6.7\n",
      "  4.98  7.94  2.2   6.33  2.44  8.95  4.64  2.84  3.68  1.2   7.61  3.69\n",
      "  3.04  2.26  2.43  4.62  1.59  3.78  5.12  3.23  5.28  6.37  4.41  4.3\n",
      "  3.36  3.84  4.04  4.6   0.02  1.52  4.75  3.32  3.27  4.87  5.13  5.61\n",
      "  7.39  1.47  5.83  4.53  2.12  6.98  4.14  4.5   6.93  6.91  2.1   6.21\n",
      "  4.1   3.92  1.87  3.26  1.16  4.94  1.03  5.9   2.03  1.95 10.95  2.91\n",
      "  6.73  4.8   9.72  3.14  9.63  5.52  3.59  3.99  7.01  1.43  5.85 10.27\n",
      "  4.77  6.65  2.55  5.01  4.69  7.74  6.28  5.23  3.05  1.08  4.2   7.6\n",
      "  5.94  6.04  5.45  3.8   2.97  6.14  3.49  4.48  9.7   6.86  6.46  5.49\n",
      "  5.2   7.07  6.15  6.42  6.71  5.57  5.7   7.45  2.98  7.59  6.06  6.02\n",
      "  7.24  4.47  3.66  8.09  2.96  9.38  3.47  5.54  9.    5.25  6.83  3.06\n",
      "  2.72  7.66  8.38  6.96  4.93  4.54  5.56  5.78 10.61  5.55  5.11  3.71\n",
      "  3.34  1.45  5.59  5.1   7.96  8.18  6.12  6.6   5.96  5.36  5.75  5.76\n",
      "  5.31  8.5   4.81  2.58  8.46  4.01  5.74  3.67  4.08  5.73  4.13  7.15\n",
      "  5.44  8.01  3.9   5.3   7.72  6.2   5.95]\n"
     ]
    }
   ],
   "source": [
    "#Check again which columns have null values\n",
    "columns_with_nan = final_df.columns[final_df.isnull().any()]\n",
    "print(columns_with_nan)\n",
    "for column in columns_with_nan:\n",
    "    print(column, '\\t', final_df[column].nunique(), '\\t', final_df[column].dtype, '\\t', final_df[column].unique())"
   ]
  },
  {
   "cell_type": "markdown",
   "metadata": {},
   "source": [
    "Most of the columns with NaN have numeric values. \n",
    "3 columns 'bathrooms', 'bedrooms', 'beds' need special handling, as it would not be wise to impute these values with simple mean/median. For these columns, we impute with the median of the group of listings with same number of bedrooms/bathrooms.\n",
    "\n",
    "Remaining nulls are imputed with median values of the respective columns."
   ]
  },
  {
   "cell_type": "code",
   "execution_count": 22,
   "metadata": {},
   "outputs": [],
   "source": [
    "final_df['bathrooms'].fillna(final_df.groupby(\"bedrooms\")[\"bathrooms\"].transform(\"median\"), inplace=True)\n",
    "final_df['bedrooms'].fillna(final_df.groupby(\"bathrooms\")[\"bedrooms\"].transform(\"median\"), inplace=True)\n",
    "final_df['beds'].fillna(final_df.groupby(\"bedrooms\")[\"beds\"].transform(\"median\"), inplace=True)"
   ]
  },
  {
   "cell_type": "code",
   "execution_count": 23,
   "metadata": {},
   "outputs": [
    {
     "name": "stderr",
     "output_type": "stream",
     "text": [
      "C:\\Users\\Rehan.Ahmar\\AppData\\Local\\Continuum\\Anaconda3\\lib\\site-packages\\sklearn\\utils\\deprecation.py:58: DeprecationWarning: Class Imputer is deprecated; Imputer was deprecated in version 0.20 and will be removed in 0.22. Import impute.SimpleImputer from sklearn instead.\n",
      "  warnings.warn(msg, category=DeprecationWarning)\n"
     ]
    },
    {
     "data": {
      "text/plain": [
       "Index([], dtype='object')"
      ]
     },
     "execution_count": 23,
     "metadata": {},
     "output_type": "execute_result"
    }
   ],
   "source": [
    "#final_df['reviews_per_month'].fillna(final_df['reviews_per_month'].mean(), inplace=True)\n",
    "\n",
    "#impute remaining columns with median\n",
    "imputer = Imputer(missing_values=np.nan, strategy='median')\n",
    "imputed_df = pd.DataFrame(imputer.fit_transform(final_df), columns=final_df.columns)\n",
    "\n",
    "# Check whether any null values are still present\n",
    "imputed_df.columns[imputed_df.isnull().any()]"
   ]
  },
  {
   "cell_type": "code",
   "execution_count": 24,
   "metadata": {},
   "outputs": [
    {
     "data": {
      "text/html": [
       "<div>\n",
       "<style scoped>\n",
       "    .dataframe tbody tr th:only-of-type {\n",
       "        vertical-align: middle;\n",
       "    }\n",
       "\n",
       "    .dataframe tbody tr th {\n",
       "        vertical-align: top;\n",
       "    }\n",
       "\n",
       "    .dataframe thead th {\n",
       "        text-align: right;\n",
       "    }\n",
       "</style>\n",
       "<table border=\"1\" class=\"dataframe\">\n",
       "  <thead>\n",
       "    <tr style=\"text-align: right;\">\n",
       "      <th></th>\n",
       "      <th>host_response_rate</th>\n",
       "      <th>host_acceptance_rate</th>\n",
       "      <th>host_is_superhost</th>\n",
       "      <th>host_total_listings_count</th>\n",
       "      <th>host_has_profile_pic</th>\n",
       "      <th>host_identity_verified</th>\n",
       "      <th>latitude</th>\n",
       "      <th>longitude</th>\n",
       "      <th>is_location_exact</th>\n",
       "      <th>accommodates</th>\n",
       "      <th>...</th>\n",
       "      <th>room_type_Private room</th>\n",
       "      <th>room_type_Shared room</th>\n",
       "      <th>bed_type_Airbed</th>\n",
       "      <th>bed_type_Couch</th>\n",
       "      <th>bed_type_Futon</th>\n",
       "      <th>bed_type_Pull-out Sofa</th>\n",
       "      <th>bed_type_Real Bed</th>\n",
       "      <th>cancellation_policy_flexible</th>\n",
       "      <th>cancellation_policy_moderate</th>\n",
       "      <th>cancellation_policy_strict</th>\n",
       "    </tr>\n",
       "  </thead>\n",
       "  <tbody>\n",
       "    <tr>\n",
       "      <th>0</th>\n",
       "      <td>0.951807</td>\n",
       "      <td>1.0</td>\n",
       "      <td>0.0</td>\n",
       "      <td>0.003992</td>\n",
       "      <td>1.0</td>\n",
       "      <td>1.0</td>\n",
       "      <td>0.574762</td>\n",
       "      <td>0.261555</td>\n",
       "      <td>1.0</td>\n",
       "      <td>0.200000</td>\n",
       "      <td>...</td>\n",
       "      <td>0.0</td>\n",
       "      <td>0.0</td>\n",
       "      <td>0.0</td>\n",
       "      <td>0.0</td>\n",
       "      <td>0.0</td>\n",
       "      <td>0.0</td>\n",
       "      <td>1.0</td>\n",
       "      <td>0.0</td>\n",
       "      <td>1.0</td>\n",
       "      <td>0.0</td>\n",
       "    </tr>\n",
       "    <tr>\n",
       "      <th>1</th>\n",
       "      <td>0.975904</td>\n",
       "      <td>1.0</td>\n",
       "      <td>1.0</td>\n",
       "      <td>0.009980</td>\n",
       "      <td>1.0</td>\n",
       "      <td>1.0</td>\n",
       "      <td>0.587178</td>\n",
       "      <td>0.291896</td>\n",
       "      <td>1.0</td>\n",
       "      <td>0.200000</td>\n",
       "      <td>...</td>\n",
       "      <td>0.0</td>\n",
       "      <td>0.0</td>\n",
       "      <td>0.0</td>\n",
       "      <td>0.0</td>\n",
       "      <td>0.0</td>\n",
       "      <td>0.0</td>\n",
       "      <td>1.0</td>\n",
       "      <td>0.0</td>\n",
       "      <td>0.0</td>\n",
       "      <td>1.0</td>\n",
       "    </tr>\n",
       "    <tr>\n",
       "      <th>2</th>\n",
       "      <td>0.602410</td>\n",
       "      <td>1.0</td>\n",
       "      <td>0.0</td>\n",
       "      <td>0.001996</td>\n",
       "      <td>1.0</td>\n",
       "      <td>1.0</td>\n",
       "      <td>0.546003</td>\n",
       "      <td>0.270286</td>\n",
       "      <td>1.0</td>\n",
       "      <td>0.666667</td>\n",
       "      <td>...</td>\n",
       "      <td>0.0</td>\n",
       "      <td>0.0</td>\n",
       "      <td>0.0</td>\n",
       "      <td>0.0</td>\n",
       "      <td>0.0</td>\n",
       "      <td>0.0</td>\n",
       "      <td>1.0</td>\n",
       "      <td>0.0</td>\n",
       "      <td>0.0</td>\n",
       "      <td>1.0</td>\n",
       "    </tr>\n",
       "    <tr>\n",
       "      <th>3</th>\n",
       "      <td>1.000000</td>\n",
       "      <td>1.0</td>\n",
       "      <td>0.0</td>\n",
       "      <td>0.000000</td>\n",
       "      <td>1.0</td>\n",
       "      <td>1.0</td>\n",
       "      <td>0.584330</td>\n",
       "      <td>0.271441</td>\n",
       "      <td>1.0</td>\n",
       "      <td>0.133333</td>\n",
       "      <td>...</td>\n",
       "      <td>0.0</td>\n",
       "      <td>0.0</td>\n",
       "      <td>0.0</td>\n",
       "      <td>0.0</td>\n",
       "      <td>0.0</td>\n",
       "      <td>0.0</td>\n",
       "      <td>1.0</td>\n",
       "      <td>1.0</td>\n",
       "      <td>0.0</td>\n",
       "      <td>0.0</td>\n",
       "    </tr>\n",
       "    <tr>\n",
       "      <th>4</th>\n",
       "      <td>1.000000</td>\n",
       "      <td>1.0</td>\n",
       "      <td>0.0</td>\n",
       "      <td>0.001996</td>\n",
       "      <td>1.0</td>\n",
       "      <td>1.0</td>\n",
       "      <td>0.559996</td>\n",
       "      <td>0.253370</td>\n",
       "      <td>1.0</td>\n",
       "      <td>0.333333</td>\n",
       "      <td>...</td>\n",
       "      <td>0.0</td>\n",
       "      <td>0.0</td>\n",
       "      <td>0.0</td>\n",
       "      <td>0.0</td>\n",
       "      <td>0.0</td>\n",
       "      <td>0.0</td>\n",
       "      <td>1.0</td>\n",
       "      <td>0.0</td>\n",
       "      <td>0.0</td>\n",
       "      <td>1.0</td>\n",
       "    </tr>\n",
       "  </tbody>\n",
       "</table>\n",
       "<p>5 rows × 116 columns</p>\n",
       "</div>"
      ],
      "text/plain": [
       "   host_response_rate  host_acceptance_rate  host_is_superhost  \\\n",
       "0            0.951807                   1.0                0.0   \n",
       "1            0.975904                   1.0                1.0   \n",
       "2            0.602410                   1.0                0.0   \n",
       "3            1.000000                   1.0                0.0   \n",
       "4            1.000000                   1.0                0.0   \n",
       "\n",
       "   host_total_listings_count  host_has_profile_pic  host_identity_verified  \\\n",
       "0                   0.003992                   1.0                     1.0   \n",
       "1                   0.009980                   1.0                     1.0   \n",
       "2                   0.001996                   1.0                     1.0   \n",
       "3                   0.000000                   1.0                     1.0   \n",
       "4                   0.001996                   1.0                     1.0   \n",
       "\n",
       "   latitude  longitude  is_location_exact  accommodates  \\\n",
       "0  0.574762   0.261555                1.0      0.200000   \n",
       "1  0.587178   0.291896                1.0      0.200000   \n",
       "2  0.546003   0.270286                1.0      0.666667   \n",
       "3  0.584330   0.271441                1.0      0.133333   \n",
       "4  0.559996   0.253370                1.0      0.333333   \n",
       "\n",
       "              ...              room_type_Private room  room_type_Shared room  \\\n",
       "0             ...                                 0.0                    0.0   \n",
       "1             ...                                 0.0                    0.0   \n",
       "2             ...                                 0.0                    0.0   \n",
       "3             ...                                 0.0                    0.0   \n",
       "4             ...                                 0.0                    0.0   \n",
       "\n",
       "   bed_type_Airbed  bed_type_Couch  bed_type_Futon  bed_type_Pull-out Sofa  \\\n",
       "0              0.0             0.0             0.0                     0.0   \n",
       "1              0.0             0.0             0.0                     0.0   \n",
       "2              0.0             0.0             0.0                     0.0   \n",
       "3              0.0             0.0             0.0                     0.0   \n",
       "4              0.0             0.0             0.0                     0.0   \n",
       "\n",
       "   bed_type_Real Bed  cancellation_policy_flexible  \\\n",
       "0                1.0                           0.0   \n",
       "1                1.0                           0.0   \n",
       "2                1.0                           0.0   \n",
       "3                1.0                           1.0   \n",
       "4                1.0                           0.0   \n",
       "\n",
       "   cancellation_policy_moderate  cancellation_policy_strict  \n",
       "0                           1.0                         0.0  \n",
       "1                           0.0                         1.0  \n",
       "2                           0.0                         1.0  \n",
       "3                           0.0                         0.0  \n",
       "4                           0.0                         1.0  \n",
       "\n",
       "[5 rows x 116 columns]"
      ]
     },
     "execution_count": 24,
     "metadata": {},
     "output_type": "execute_result"
    }
   ],
   "source": [
    "# scale the data using MinMax Scaler\n",
    "scaler = MinMaxScaler()\n",
    "#scaler = StandardScaler()\n",
    "scaled_df = pd.DataFrame(scaler.fit_transform(imputed_df), columns = imputed_df.columns)\n",
    "scaled_df.head()"
   ]
  },
  {
   "cell_type": "code",
   "execution_count": 25,
   "metadata": {},
   "outputs": [],
   "source": [
    "#fig, ax = plt.subplots(figsize=(20,20)) \n",
    "#sns.heatmap(scaled_df.loc[:, :'reviews_per_month'].corr(), annot=True, fmt=\"0.2f\")"
   ]
  },
  {
   "cell_type": "markdown",
   "metadata": {},
   "source": [
    "I have used MinMaxScaler to scale the data. This was done to preserve the binary property of dummy variables."
   ]
  },
  {
   "cell_type": "markdown",
   "metadata": {},
   "source": [
    "### Modelling"
   ]
  },
  {
   "cell_type": "code",
   "execution_count": 26,
   "metadata": {},
   "outputs": [
    {
     "name": "stdout",
     "output_type": "stream",
     "text": [
      "(3054, 115)\n",
      "(764, 115)\n"
     ]
    }
   ],
   "source": [
    "price_df = final_df['price']\n",
    "scaled_df.drop(['price'], axis=1, inplace=True)\n",
    "X_train, X_test, y_train, y_test = train_test_split(scaled_df, price_df, test_size = 0.2, shuffle=True, random_state = 42)\n",
    "print(X_train.shape)\n",
    "print(X_test.shape)"
   ]
  },
  {
   "cell_type": "code",
   "execution_count": 27,
   "metadata": {},
   "outputs": [
    {
     "name": "stdout",
     "output_type": "stream",
     "text": [
      "Mean Squared Error:\n",
      "  Train: 3204.68 \t Test: 3190.35\n",
      "Root mean Squared Error:\n",
      "  Train: 56.61 \t Test: 56.48\n",
      "r-squared score:\n",
      "  Train: 0.61 \t Test: 0.61\n"
     ]
    }
   ],
   "source": [
    "# Evaluate the performance with Linear Regression\n",
    "model = LinearRegression()\n",
    "model.fit(X_train, y_train)\n",
    "predictions_train = model.predict(X_train)\n",
    "predictions_test = model.predict(X_test)\n",
    "mse_train = mean_squared_error(y_train, predictions_train)\n",
    "mse_test = mean_squared_error(y_test, predictions_test)\n",
    "print('Mean Squared Error:\\n  Train: {:.2f} \\t Test: {:.2f}'.format(mse_train, mse_test))\n",
    "print('Root mean Squared Error:\\n  Train: {:.2f} \\t Test: {:.2f}'.format(np.sqrt(mse_train), np.sqrt(mse_test)))\n",
    "r2score_train = r2_score(y_train, predictions_train)\n",
    "r2score_test = r2_score(y_test, predictions_test)\n",
    "print('r-squared score:\\n  Train: {:.2f} \\t Test: {:.2f}'.format(r2score_train, r2score_test))"
   ]
  },
  {
   "cell_type": "code",
   "execution_count": 28,
   "metadata": {},
   "outputs": [
    {
     "name": "stdout",
     "output_type": "stream",
     "text": [
      "Mean Squared Error:\n",
      "  Train: 464.56 \t Test: 3156.29\n",
      "Root mean Squared Error:\n",
      "  Train: 21.55 \t Test: 56.18\n",
      "r-squared score:\n",
      "  Train: 0.94 \t Test: 0.61\n"
     ]
    }
   ],
   "source": [
    "# Evaluate the performance with Random Forest\n",
    "model = RandomForestRegressor(n_estimators=100, random_state=42)\n",
    "model.fit(X_train, y_train)\n",
    "predictions_train = model.predict(X_train)\n",
    "predictions_test = model.predict(X_test)\n",
    "mse_train = mean_squared_error(y_train, predictions_train)\n",
    "mse_test = mean_squared_error(y_test, predictions_test)\n",
    "print('Mean Squared Error:\\n  Train: {:.2f} \\t Test: {:.2f}'.format(mse_train, mse_test))\n",
    "print('Root mean Squared Error:\\n  Train: {:.2f} \\t Test: {:.2f}'.format(np.sqrt(mse_train), np.sqrt(mse_test)))\n",
    "r2score_train = r2_score(y_train, predictions_train)\n",
    "r2score_test = r2_score(y_test, predictions_test)\n",
    "print('r-squared score:\\n  Train: {:.2f} \\t Test: {:.2f}'.format(r2score_train, r2score_test))"
   ]
  },
  {
   "cell_type": "markdown",
   "metadata": {},
   "source": [
    "We can see Random Forest gives better results. Let's perform hyperparameter tuning on Random Forest. "
   ]
  },
  {
   "cell_type": "code",
   "execution_count": 29,
   "metadata": {},
   "outputs": [
    {
     "name": "stdout",
     "output_type": "stream",
     "text": [
      "Fitting 5 folds for each of 100 candidates, totalling 500 fits\n"
     ]
    },
    {
     "name": "stderr",
     "output_type": "stream",
     "text": [
      "[Parallel(n_jobs=-1)]: Using backend LokyBackend with 4 concurrent workers.\n",
      "[Parallel(n_jobs=-1)]: Done  33 tasks      | elapsed:  3.4min\n",
      "[Parallel(n_jobs=-1)]: Done 154 tasks      | elapsed: 25.1min\n",
      "[Parallel(n_jobs=-1)]: Done 357 tasks      | elapsed: 60.1min\n",
      "[Parallel(n_jobs=-1)]: Done 500 out of 500 | elapsed: 76.4min finished\n"
     ]
    },
    {
     "data": {
      "text/plain": [
       "RandomizedSearchCV(cv=5, error_score='raise-deprecating',\n",
       "          estimator=RandomForestRegressor(bootstrap=True, criterion='mse', max_depth=None,\n",
       "           max_features='auto', max_leaf_nodes=None,\n",
       "           min_impurity_decrease=0.0, min_impurity_split=None,\n",
       "           min_samples_leaf=1, min_samples_split=2,\n",
       "           min_weight_fraction_leaf=0.0, n_estimators='warn', n_jobs=None,\n",
       "           oob_score=False, random_state=None, verbose=0, warm_start=False),\n",
       "          fit_params=None, iid='warn', n_iter=100, n_jobs=-1,\n",
       "          param_distributions={'n_estimators': [200, 400, 600, 800, 1000, 1200, 1400, 1600, 1800, 2000], 'max_features': ['auto', 'sqrt'], 'max_depth': [10, 20, 30, 40, 50, 60, 70, 80, 90, 100, 110, None], 'min_samples_split': [2, 5, 10], 'min_samples_leaf': [1, 2, 4], 'bootstrap': [True, False]},\n",
       "          pre_dispatch='2*n_jobs', random_state=42, refit=True,\n",
       "          return_train_score='warn', scoring=None, verbose=2)"
      ]
     },
     "execution_count": 29,
     "metadata": {},
     "output_type": "execute_result"
    }
   ],
   "source": [
    "max_depth = [int(x) for x in np.linspace(10, 110, num = 11)]\n",
    "max_depth.append(None)\n",
    "\n",
    "random_grid = {'n_estimators': [int(x) for x in np.linspace(start = 200, stop = 2000, num = 10)],\n",
    "               'max_features': ['auto', 'sqrt'],\n",
    "               'max_depth': max_depth,\n",
    "               'min_samples_split': [2, 5, 10],\n",
    "               'min_samples_leaf': [1, 2, 4],\n",
    "               'bootstrap': [True, False]}\n",
    "rf_random = RandomizedSearchCV(estimator=RandomForestRegressor(), param_distributions=random_grid, \n",
    "                               n_iter=100, cv=5, verbose=2, random_state=42, n_jobs=-1)\n",
    "rf_random.fit(X_train, y_train)"
   ]
  },
  {
   "cell_type": "code",
   "execution_count": 30,
   "metadata": {},
   "outputs": [
    {
     "name": "stdout",
     "output_type": "stream",
     "text": [
      "0.6188875300039826\n"
     ]
    },
    {
     "data": {
      "text/plain": [
       "{'n_estimators': 400,\n",
       " 'min_samples_split': 2,\n",
       " 'min_samples_leaf': 1,\n",
       " 'max_features': 'sqrt',\n",
       " 'max_depth': None,\n",
       " 'bootstrap': False}"
      ]
     },
     "execution_count": 30,
     "metadata": {},
     "output_type": "execute_result"
    }
   ],
   "source": [
    "print(rf_random.best_score_)\n",
    "rf_random.best_params_"
   ]
  },
  {
   "cell_type": "code",
   "execution_count": 31,
   "metadata": {},
   "outputs": [
    {
     "name": "stdout",
     "output_type": "stream",
     "text": [
      "Mean Squared Error:\n",
      "  Train: 0.00 \t Test: 2799.09\n",
      "Root mean Squared Error:\n",
      "  Train: 0.04 \t Test: 52.91\n",
      "r-squared score:\n",
      "  Train: 1.00 \t Test: 0.66\n"
     ]
    }
   ],
   "source": [
    "best_model = rf_random.best_estimator_\n",
    "predictions_train = best_model.predict(X_train)\n",
    "predictions_test = best_model.predict(X_test)\n",
    "mse_train = mean_squared_error(y_train, predictions_train)\n",
    "mse_test = mean_squared_error(y_test, predictions_test)\n",
    "print('Mean Squared Error:\\n  Train: {:.2f} \\t Test: {:.2f}'.format(mse_train, mse_test))\n",
    "print('Root mean Squared Error:\\n  Train: {:.2f} \\t Test: {:.2f}'.format(np.sqrt(mse_train), np.sqrt(mse_test)))\n",
    "r2score_train = r2_score(y_train, predictions_train)\n",
    "r2score_test = r2_score(y_test, predictions_test)\n",
    "print('r-squared score:\\n  Train: {:.2f} \\t Test: {:.2f}'.format(r2score_train, r2score_test))"
   ]
  },
  {
   "cell_type": "code",
   "execution_count": 32,
   "metadata": {},
   "outputs": [
    {
     "data": {
      "text/plain": [
       "RandomForestRegressor(bootstrap=False, criterion='mse', max_depth=None,\n",
       "           max_features='sqrt', max_leaf_nodes=None,\n",
       "           min_impurity_decrease=0.0, min_impurity_split=None,\n",
       "           min_samples_leaf=1, min_samples_split=2,\n",
       "           min_weight_fraction_leaf=0.0, n_estimators=400, n_jobs=None,\n",
       "           oob_score=False, random_state=None, verbose=0, warm_start=False)"
      ]
     },
     "execution_count": 32,
     "metadata": {},
     "output_type": "execute_result"
    }
   ],
   "source": [
    "best_model"
   ]
  },
  {
   "cell_type": "markdown",
   "metadata": {},
   "source": [
    "We can see the tuned model has r-squared score of 1 on training data and 0.66 on test data. The score is not very high for test data. But we are only interested to know the important features."
   ]
  },
  {
   "cell_type": "markdown",
   "metadata": {},
   "source": [
    "## Extracting Feature Importance"
   ]
  },
  {
   "cell_type": "code",
   "execution_count": 40,
   "metadata": {},
   "outputs": [
    {
     "data": {
      "image/png": "[encoded data removed]",
      "text/plain": [
       "<Figure size 720x360 with 1 Axes>"
      ]
     },
     "metadata": {
      "needs_background": "light"
     },
     "output_type": "display_data"
    }
   ],
   "source": [
    "'''sorted_indices = np.argsort(best_model.feature_importances_)[::-1]\n",
    "columns = X_train.columns[sorted_indices[:25]]\n",
    "values = best_model.feature_importances_[sorted_indices][:25]\n",
    "plt.figure(figsize=(10,5))\n",
    "plt.bar(range(25), values)\n",
    "plt.xticks(range(25), columns, rotation='vertical')'''\n",
    "\n",
    "features = sorted(zip(best_model.feature_importances_, X_train.columns), reverse=True)\n",
    "values = [x[0] for x in features]\n",
    "columns = [x[1] for x in features]\n",
    "plt.figure(figsize=(10,5))\n",
    "plt.bar(columns[:25], values[:25])\n",
    "plt.ylabel('Importance')\n",
    "plt.xlabel('Feature')\n",
    "plt.xticks(rotation='vertical')\n",
    "plt.title('Most predictive features')\n",
    "plt.savefig('feature importance.png', bbox_inches = 'tight')\n",
    "plt.show()"
   ]
  },
  {
   "cell_type": "markdown",
   "metadata": {},
   "source": [
    "### Result Interpretation:\n",
    "- We can see the most important features in determining prices are bedrooms, accomodates, bathrooms, beds and guests included. All these features actually indicate towards the size of the listing, and they are all related together. A listing with high number of bedrooms will obviously have higher number of bathrooms and beds, and will accomodate a larger number of guests. Such a listing will obviously have a higher price.\n",
    "\n",
    "- Room type is also an important feature, which also makes perfect sense. Prices of entire home/apt will be higher than private rooms, which in turn will be higher than shared rooms.\n",
    "\n",
    "- Reviews per month is also quite important. Higher reviews per month indicates higher occupancy rate per month, which usually drives the price higher.\n",
    "\n",
    "- Latitude and longitude are also important features denoting the location of a listing. We already know from Question 2, neighbourhood is an important factor in determining prices."
   ]
  },
  {
   "cell_type": "code",
   "execution_count": 39,
   "metadata": {},
   "outputs": [
    {
     "data": {
      "image/png": "[encoded data removed]",
      "text/plain": [
       "<Figure size 720x360 with 1 Axes>"
      ]
     },
     "metadata": {
      "needs_background": "light"
     },
     "output_type": "display_data"
    }
   ],
   "source": [
    "# Plot importances of amentities\n",
    "'''importances = list(zip(best_model.feature_importances_, X_train))\n",
    "importances_df = pd.DataFrame(importances, columns=['importances', 'columns']).sort_values(by=['importances'])\n",
    "\n",
    "amenities_importance = importances_df[importances_df['columns'].isin(parsed_amenities.columns)]\n",
    "plt.figure(figsize=(10,5))\n",
    "plt.bar(amenities_importance['columns'], amenities_importance['importances'])\n",
    "plt.xticks(rotation='vertical')'''\n",
    "\n",
    "amenities_list = [x[1] for x in features if x[1] in set(parsed_amenities.columns)]\n",
    "coef_list = [x[0] for x in features if x[1] in set(parsed_amenities.columns)]\n",
    "\n",
    "plt.figure(figsize=(10,5))\n",
    "plt.bar(amenities_list[:20], coef_list[:20])\n",
    "plt.ylabel('Importance')\n",
    "plt.xlabel('Amenity')\n",
    "plt.xticks(rotation='vertical')\n",
    "plt.title('Most predictive amenitites')\n",
    "plt.savefig('amenity importance.png', bbox_inches = 'tight')\n",
    "plt.show()"
   ]
  },
  {
   "cell_type": "markdown",
   "metadata": {},
   "source": [
    "### Result interpretation:\n",
    "\n",
    "We can see the most important amenities which influence price are Family/Kid Friendly, TV, Indoor Fireplace, Elevator in Building, Hot Tub, Gym and Kitchen."
   ]
  },
  {
   "cell_type": "code",
   "execution_count": null,
   "metadata": {},
   "outputs": [],
   "source": []
  }
 ],
 "metadata": {
  "kernelspec": {
   "display_name": "Python 3",
   "language": "python",
   "name": "python3"
  },
  "language_info": {
   "codemirror_mode": {
    "name": "ipython",
    "version": 3
   },
   "file_extension": ".py",
   "mimetype": "text/x-python",
   "name": "python",
   "nbconvert_exporter": "python",
   "pygments_lexer": "ipython3",
   "version": "3.6.7"
  }
 },
 "nbformat": 4,
 "nbformat_minor": 2
}
